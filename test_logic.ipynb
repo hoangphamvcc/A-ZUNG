{
 "cells": [
  {
   "cell_type": "code",
   "execution_count": 8,
   "metadata": {},
   "outputs": [
    {
     "name": "stdout",
     "output_type": "stream",
     "text": [
      "1711515948\n",
      "1711516073\n",
      "1711516255\n",
      "1711516299\n",
      "1711516971\n",
      "1711518192\n",
      "1711518727\n",
      "1711519196\n",
      "1711519200\n",
      "1711519200\n",
      "1711519200\n",
      "1711519200\n",
      "1711519200\n",
      "1711519797\n",
      "1711519970\n",
      "1711520498\n",
      "1711521000\n",
      "1711521196\n",
      "1711521401\n",
      "1711521630\n",
      "1711522426\n",
      "1711522473\n",
      "1711522526\n",
      "1711522663\n",
      "1711522800\n",
      "1711522800\n",
      "1711522800\n",
      "1711522800\n",
      "1711522800\n",
      "1711522845\n",
      "1711523523\n",
      "1711523554\n",
      "1711523604\n",
      "1711523724\n",
      "1711523822\n",
      "1711524546\n",
      "1711524600\n",
      "1711524600\n",
      "1711525213\n",
      "1711525445\n",
      "1711525500\n",
      "1711525510\n",
      "1711526400\n",
      "1711526400\n",
      "1711526400\n",
      "1711526400\n",
      "1711526400\n",
      "1711526400\n",
      "1711526480\n",
      "1711526652\n",
      "1711527071\n"
     ]
    }
   ],
   "source": [
    "from bs4 import BeautifulSoup\n",
    "import requests\n",
    "import datetime\n",
    "from datetime import datetime\n",
    "\n",
    "\n",
    "url = requests.get('https://vnexpress.net/rss/tin-moi-nhat.rss')\n",
    "\n",
    "soup = BeautifulSoup(url.content,'xml')\n",
    "items = soup.find_all('item')\n",
    "items.reverse()\n",
    "\n",
    "for i, item in enumerate(items):\n",
    "    time4 = item.pubDate.text\n",
    "    time1 = time4.split(\" \")\n",
    "    time2 = \" \".join([\"-\".join([time1[3], '03', time1[1]]), time1[4]])\n",
    "    date_format = '%Y-%m-%d %H:%M:%S'\n",
    "    time3 = datetime.strptime(time2, date_format)\n",
    "    timestamp = int(round(time3.timestamp()))\n",
    "    print(timestamp)\n",
    "    #print(item.enclosure['url'])\n",
    "\n",
    "\n"
   ]
  },
  {
   "cell_type": "code",
   "execution_count": null,
   "metadata": {},
   "outputs": [],
   "source": [
    "from datetime import datetime\n",
    "\n",
    "curr_dt = datetime.now()\n",
    "timestamp = int(round(curr_dt.timestamp()))\n",
    "print(timestamp)"
   ]
  },
  {
   "cell_type": "code",
   "execution_count": 4,
   "metadata": {},
   "outputs": [
    {
     "name": "stdout",
     "output_type": "stream",
     "text": [
      "{'name': 'Melanie Greer', 'add': '1982'}\n",
      "{'name': 'Kelly Taylor', 'add': '2019'}\n"
     ]
    },
    {
     "ename": "KeyboardInterrupt",
     "evalue": "",
     "output_type": "error",
     "traceback": [
      "\u001b[0;31m---------------------------------------------------------------------------\u001b[0m",
      "\u001b[0;31mKeyboardInterrupt\u001b[0m                         Traceback (most recent call last)",
      "Cell \u001b[0;32mIn[4], line 32\u001b[0m\n\u001b[1;32m     28\u001b[0m \u001b[38;5;28mprint\u001b[39m(user)\n\u001b[1;32m     29\u001b[0m producer\u001b[38;5;241m.\u001b[39msend(\n\u001b[1;32m     30\u001b[0m     \u001b[38;5;124m'\u001b[39m\u001b[38;5;124mtest123\u001b[39m\u001b[38;5;124m'\u001b[39m,user\n\u001b[1;32m     31\u001b[0m )\n\u001b[0;32m---> 32\u001b[0m \u001b[43mtime\u001b[49m\u001b[38;5;241;43m.\u001b[39;49m\u001b[43msleep\u001b[49m\u001b[43m(\u001b[49m\u001b[38;5;241;43m3\u001b[39;49m\u001b[43m)\u001b[49m\n",
      "\u001b[0;31mKeyboardInterrupt\u001b[0m: "
     ]
    }
   ],
   "source": [
    "from time import time\n",
    "from kafka import KafkaProducer\n",
    "from faker import Faker\n",
    "import json, time\n",
    "\n",
    "faker = Faker()\n",
    "\n",
    "def get_register():\n",
    "    return {\n",
    "        'name': faker.name(),\n",
    "        'add' : faker.year()\n",
    "    }\n",
    "\n",
    "def get_partitioner(key_bytes, all_partitions, available_partitions):\n",
    "    return 0\n",
    "\n",
    "def json_serializer(data):\n",
    "    return json.dumps(data).encode('utf-8')\n",
    "\n",
    "producer = KafkaProducer(\n",
    "    bootstrap_servers = ['10.5.69.117:9092'], # server name\n",
    "    value_serializer = json_serializer, # function callable\n",
    "    # partitioner = get_partitioner, # function return 0 >>> only partition_0 can received messages\n",
    "    )\n",
    "\n",
    "while 1==1:\n",
    "    user = get_register()\n",
    "    print(user)\n",
    "    producer.send(\n",
    "        'test123',user\n",
    "    )\n",
    "    time.sleep(3)\n"
   ]
  },
  {
   "cell_type": "code",
   "execution_count": 4,
   "metadata": {},
   "outputs": [
    {
     "data": {
      "text/plain": [
       "'GXO t\\\\u0103ng s\\\\u1eed d\\\\u1ee5ng c\\\\u00f4ng ngh\\\\u1ec7 th\\\\u1ecb gi\\\\u00e1c'"
      ]
     },
     "execution_count": 4,
     "metadata": {},
     "output_type": "execute_result"
    }
   ],
   "source": [
    "a = b'GXO t\\\\u0103ng s\\\\u1eed d\\\\u1ee5ng c\\\\u00f4ng ngh\\\\u1ec7 th\\\\u1ecb gi\\\\u00e1c'\n",
    "a.decode('latin-1')"
   ]
  },
  {
   "cell_type": "code",
   "execution_count": 25,
   "metadata": {},
   "outputs": [
    {
     "name": "stdout",
     "output_type": "stream",
     "text": [
      "{\"Title\": \"Anh em ru\\u1ed9t c\\u00f9ng l\\u00e0 th\\u1ee7 khoa t\\u1ed1t nghi\\u1ec7p \\u0111\\u1ea1i h\\u1ecdc Nh\\u1eadt\"}\n",
      "Anh em ruột cùng là thủ khoa tốt nghiệp đại học Nhật\n"
     ]
    }
   ],
   "source": [
    "import json\n",
    "def json_serializer(data):\n",
    "    return json.dumps(data).encode('utf-8')\n",
    "\n",
    "\n",
    "\n",
    "a = {\"Title\":\"Anh em ruột cùng là thủ khoa tốt nghiệp đại học Nhật\"}\n",
    "\n",
    "#print(a.encode('utf-8'))\n",
    "b = json.dumps(a)\n",
    "print(b)\n",
    "c = json.loads(b)\n",
    "print(c['Title'])"
   ]
  },
  {
   "cell_type": "code",
   "execution_count": 17,
   "metadata": {},
   "outputs": [
    {
     "data": {
      "text/plain": [
       "{'ok': False,\n",
       " 'error_code': 400,\n",
       " 'description': 'Bad Request: wrong file identifier/HTTP URL specified'}"
      ]
     },
     "execution_count": 17,
     "metadata": {},
     "output_type": "execute_result"
    }
   ],
   "source": [
    "import requests\n",
    "\n",
    "class Bot_send(object):\n",
    "    def __init__(self, message):\n",
    "        self.message = message\n",
    "        self.image = self.message['Image']\n",
    "        self.TOKEN = '7093067808:AAEfPz21IUweO0uH2Afu1y_V5Mrc_8cdohs'\n",
    "        self.CHAT_ID1 = '-1002004471961'\n",
    "\n",
    "    def send(self):\n",
    "        url = f'https://api.telegram.org/bot{self.TOKEN}/sendPhoto'\n",
    "        #url = f'https://api.telegram.org/bot{self.TOKEN}/sendPhoto?chat_id={self.CHAT_ID1}&parse_mode=HTML&caption={self.message}&photo={self.image}'\n",
    "        msg1 ={\n",
    "            \"chat_id\" : \n",
    "        }\n",
    "        r = requests.get(url,data=msg1)\n",
    "        return r.json()\n",
    "    \n",
    "\n"
   ]
  },
  {
   "cell_type": "code",
   "execution_count": 22,
   "metadata": {},
   "outputs": [
    {
     "name": "stdout",
     "output_type": "stream",
     "text": [
      "{\"ok\":false,\"error_code\":400,\"description\":\"Bad Request: wrong remote file identifier specified: Wrong character in the string\"}\n"
     ]
    }
   ],
   "source": [
    "import requests\n",
    "import time\n",
    "\n",
    "base_url = \"https://api.telegram.org/bot7093067808:AAEfPz21IUweO0uH2Afu1y_V5Mrc_8cdohs/sendPhoto\"\n",
    "\n",
    "parameters = {\n",
    "    \"chat_id\" : \"-1002004471961\",\n",
    "    \"photo\" : open(\"/home/user/test/logo.png\",'rb'),\n",
    "    \"caption\" : \"here is travel photo for you\"\n",
    "}\n",
    "\n",
    "resp = requests.get(base_url, data = parameters)\n",
    "print(resp.text)"
   ]
  },
  {
   "cell_type": "code",
   "execution_count": 19,
   "metadata": {},
   "outputs": [],
   "source": [
    "def send_photo(chat_id, file_opened):\n",
    "    method = \"sendPhoto\"\n",
    "    params = {'chat_id': chat_id}\n",
    "    files = {'photo': file_opened}\n",
    "    resp = requests.post(api_url + method, params, files=files)\n",
    "    return resp\n",
    "\n",
    "send_photo(chat_id, open(file_path, 'rb'))"
   ]
  },
  {
   "cell_type": "code",
   "execution_count": 19,
   "metadata": {},
   "outputs": [
    {
     "name": "stdout",
     "output_type": "stream",
     "text": [
      "['product_list', 'test1', 'product_detail']\n",
      "{'_id': ObjectId('6606870bd81ce07133e9f4eb'), 'Name': 'Product_new_0', 'Option_1': [ObjectId('660688afd81ce07133e9f4f5'), ObjectId('660688afd81ce07133e9f4f7')]}\n",
      "{'_id': '0', 'Name': 'Product_0', 'Option_1': 'notcheck'}\n",
      "{'_id': '1', 'Name': 'Product_1', 'Option_1': 'notcheck'}\n",
      "{'_id': '2', 'Name': 'Product_2', 'Option_1': 'notcheck'}\n",
      "{'_id': '3', 'Name': 'Product_3', 'Option_1': 'notcheck'}\n",
      "{'_id': '4', 'Name': 'Product_4', 'Option_1': 'notcheck'}\n",
      "{'_id': '5', 'Name': 'Product_5', 'Option_1': 'notcheck'}\n",
      "{'_id': '6', 'Name': 'Product_6', 'Option_1': 'notcheck'}\n",
      "{'_id': ObjectId('6606870bd81ce07133e9f4eb'), 'Name': 'Product_new_0', 'Option_1': [ObjectId('660688afd81ce07133e9f4f5'), ObjectId('660688afd81ce07133e9f4f7')]}\n",
      "{'_id': ObjectId('6606870bd81ce07133e9f4ec'), 'Name': 'Product_new_1', 'Option_1': [ObjectId('660688afd81ce07133e9f4f5')]}\n",
      "{'_id': ObjectId('6606870bd81ce07133e9f4ed'), 'Name': 'Product_new_2', 'Option_1': [ObjectId('660688afd81ce07133e9f4f5'), ObjectId('660688afd81ce07133e9f4f9')]}\n",
      "{'_id': ObjectId('6606870bd81ce07133e9f4ee'), 'Name': 'Product_new_3', 'Option_1': [ObjectId('660688afd81ce07133e9f4f5')]}\n",
      "{'_id': ObjectId('6606870bd81ce07133e9f4ef'), 'Name': 'Product_new_4', 'Option_1': [ObjectId('660688afd81ce07133e9f4f5'), ObjectId('660688afd81ce07133e9f4f7'), ObjectId('660688afd81ce07133e9f4f7'), ObjectId('660688afd81ce07133e9f4f7'), ObjectId('660688afd81ce07133e9f4f7'), ObjectId('660688afd81ce07133e9f4f7'), ObjectId('660688afd81ce07133e9f4f7'), ObjectId('660688afd81ce07133e9f4f7'), ObjectId('660688afd81ce07133e9f4f7'), ObjectId('660688afd81ce07133e9f4f7'), ObjectId('660688afd81ce07133e9f4f7')]}\n",
      "{'_id': ObjectId('6606870bd81ce07133e9f4f0'), 'Name': 'Product_new_5', 'Option_1': 'notcheck'}\n",
      "{'_id': ObjectId('6606870bd81ce07133e9f4f1'), 'Name': 'Product_new_6', 'Option_1': 'notcheck'}\n",
      "{'_id': ObjectId('66069815d81ce07133e9f52a'), 'Name': 'Product_new_0', 'Option_1': 'notcheck'}\n",
      "{'_id': ObjectId('66069815d81ce07133e9f52b'), 'Name': 'Product_new_1', 'Option_1': 'notcheck'}\n",
      "{'_id': ObjectId('66069815d81ce07133e9f52c'), 'Name': 'Product_new_2', 'Option_1': 'notcheck'}\n",
      "{'_id': ObjectId('66069815d81ce07133e9f52d'), 'Name': 'Product_new_3', 'Option_1': 'notcheck'}\n",
      "{'_id': ObjectId('66069815d81ce07133e9f52e'), 'Name': 'Product_new_4', 'Option_1': 'notcheck'}\n",
      "{'_id': ObjectId('66069815d81ce07133e9f52f'), 'Name': 'Product_new_5', 'Option_1': 'notcheck'}\n",
      "{'_id': ObjectId('66069815d81ce07133e9f530'), 'Name': 'Product_new_6', 'Option_1': 'notcheck'}\n"
     ]
    },
    {
     "data": {
      "text/plain": [
       "\"    a = x['Option_1'][0]\\n    for x1 in pro_detail_collect.find({'_id':ObjectId('{}'.format(a))}):\\n        print(x1)\""
      ]
     },
     "execution_count": 19,
     "metadata": {},
     "output_type": "execute_result"
    }
   ],
   "source": [
    "import pymongo\n",
    "from bson.objectid import ObjectId\n",
    "\n",
    "client = pymongo.MongoClient(\"mongodb://10.0.67.162:27017/\")\n",
    "\n",
    "mydb = client['dev1']\n",
    "mycollec = mydb['product_list']\n",
    "pro_detail_collect = mydb['product_detail']\n",
    "\n",
    "product_1 = {'_id':'1',\n",
    "             'Name':'Product_1',\n",
    "             'Option_1':'notcheck'}\n",
    "\n",
    "product_detail_1 = {'Option_name':'Name1',\n",
    "                    'Option':['1','2','3'],\n",
    "                    'type':'A'}\n",
    "\n",
    "\"\"\"{'_id': ObjectId('660688afd81ce07133e9f4f5'), 'Option_name': 'Name1', 'Option': ['1', '2', '3'], 'type': 'A'}\n",
    "{'_id': ObjectId('660688b5d81ce07133e9f4f7'), 'Option_name': 'Name2', 'Option': ['1', '2', '3'], 'type': 'A'}\n",
    "{'_id': ObjectId('660688b9d81ce07133e9f4f9'), 'Option_name': 'Name3', 'Option': ['1', '2', '3'], 'type': 'A'}\"\"\"\n",
    "\n",
    "\n",
    "def querry_list(id,obID):\n",
    "    myquerry = {'Name':'Product_new_{}'.format(id)}\n",
    "    newvalue = {\"$set\":{'Option_1':ObjectID()}}\n",
    "\n",
    "\n",
    "def product_list_add(id):\n",
    "    product_c = {'Name':'Product_new_{}'.format(id),\n",
    "             'Option_1':'notcheck'}\n",
    "    return product_c\n",
    "\n",
    "\n",
    "def product_detail_add(id):\n",
    "    product_detail = {'Option_name':'Name{}'.format(id),\n",
    "                    'Option':['1','2','3'],\n",
    "                    'type':'A'}\n",
    "    return product_detail\n",
    "\n",
    "\"\"\"\n",
    "for i in range(0,7):\n",
    "    try:\n",
    "        mycollec.insert_one(product_list_add(i))\n",
    "    except:\n",
    "        pass\"\"\"\n",
    "\n",
    "\n",
    "\n",
    "\"\"\"x = pro_detail_collect.insert_one(product_detail_add(3))\"\"\"\n",
    "\n",
    "\n",
    "#myquerry = {'Name':'Product_new_4'}\n",
    "#newvalues = {\"$push\":{'Option_1':ObjectId('660688afd81ce07133e9f4f7')}}\n",
    "#mycollec.update_one(myquerry,newvalues)\n",
    "print(mydb.list_collection_names())\n",
    "\n",
    "\n",
    "\"\"\"\n",
    "for x in pro_detail_collect.find():\n",
    "    print(x)\"\"\"\n",
    "\n",
    "print(next(mycollec.find({'_id': ObjectId('6606870bd81ce07133e9f4eb')})))\n",
    "\n",
    "for x in mycollec.find():\n",
    "    print(x)\n",
    "\"\"\"    a = x['Option_1'][0]\n",
    "    for x1 in pro_detail_collect.find({'_id':ObjectId('{}'.format(a))}):\n",
    "        print(x1)\"\"\"\n"
   ]
  },
  {
   "cell_type": "code",
   "execution_count": 16,
   "metadata": {},
   "outputs": [
    {
     "name": "stdout",
     "output_type": "stream",
     "text": [
      "{'_id': ObjectId('660775b9f50e6197997125fe'), 'Name': 'User_1', 'Info': [{'phone': '1', 'user_id': '1'}]}\n",
      "{'_id': ObjectId('6607762cf50e619799712600'), 'Name': 'User_2', 'Info': [{'phone': '2', 'user_id': '2'}], 'Account_balance': '0'}\n",
      "{'_id': ObjectId('66077634f50e619799712602'), 'Name': 'User_3', 'Info': [{'phone': '3', 'user_id': '3'}], 'Account_balance': '0'}\n",
      "{'_id': ObjectId('6607763af50e619799712604'), 'Name': 'User_4', 'Info': [{'phone': '4', 'user_id': '4'}], 'Account_balance': '0'}\n"
     ]
    }
   ],
   "source": [
    "import pymongo\n",
    "from bson.objectid import ObjectId\n",
    "\n",
    "client = pymongo.MongoClient(\"mongodb://10.0.67.162:27017/\")\n",
    "\n",
    "mydb = client['dev1']\n",
    "mycollec = mydb['product_list']\n",
    "pro_detail_collect = mydb['product_detail']\n",
    "\n",
    "userdb = client['user']\n",
    "list_user = userdb['User_detail']\n",
    "\n",
    "event_collect = mydb['event']\n",
    "\n",
    "\n",
    "def user_add(id):\n",
    "    usera = {'Name':'User_{}'.format(id),\n",
    "             'Info':[{\"phone\":'{}'.format(id),\"user_id\":'{}'.format(id)}],\n",
    "             'Account_balance':'0'}\n",
    "    return usera\n",
    "\n",
    "#list_user.insert_one(user_add(4))\n",
    "\n",
    "for x in list_user.find():\n",
    "    print(x)\n"
   ]
  },
  {
   "cell_type": "code",
   "execution_count": 26,
   "metadata": {},
   "outputs": [
    {
     "name": "stdout",
     "output_type": "stream",
     "text": [
      "Database(MongoClient(host=['10.0.67.162:27017'], document_class=dict, tz_aware=False, connect=True), 'task') None\n"
     ]
    },
    {
     "ename": "TypeError",
     "evalue": "'Database' object is not callable",
     "output_type": "error",
     "traceback": [
      "\u001b[0;31m---------------------------------------------------------------------------\u001b[0m",
      "\u001b[0;31mTypeError\u001b[0m                                 Traceback (most recent call last)",
      "Cell \u001b[0;32mIn[26], line 23\u001b[0m\n\u001b[1;32m     20\u001b[0m a \u001b[38;5;241m=\u001b[39m \u001b[38;5;28mnext\u001b[39m(a,\u001b[38;5;28;01mNone\u001b[39;00m)\n\u001b[1;32m     22\u001b[0m \u001b[38;5;28mprint\u001b[39m(mydb,a)\n\u001b[0;32m---> 23\u001b[0m \u001b[38;5;28mprint\u001b[39m(\u001b[43mclient\u001b[49m\u001b[38;5;241;43m.\u001b[39;49m\u001b[43mscan_find\u001b[49m\u001b[43m(\u001b[49m\u001b[43mcollection\u001b[49m\u001b[38;5;241;43m=\u001b[39;49m\u001b[38;5;124;43m'\u001b[39;49m\u001b[38;5;124;43mNews\u001b[39;49m\u001b[38;5;124;43m'\u001b[39;49m\u001b[43m,\u001b[49m\u001b[43m \u001b[49m\u001b[43mquery\u001b[49m\u001b[38;5;241;43m=\u001b[39;49m\u001b[43mquery\u001b[49m\u001b[43m)\u001b[49m)\n\u001b[1;32m     24\u001b[0m \u001b[38;5;28;01mfor\u001b[39;00m x \u001b[38;5;129;01min\u001b[39;00m event_collect\u001b[38;5;241m.\u001b[39mfind():\n\u001b[1;32m     25\u001b[0m     \u001b[38;5;28mprint\u001b[39m(x)\n",
      "\u001b[0;31mTypeError\u001b[0m: 'Database' object is not callable"
     ]
    }
   ],
   "source": [
    "import pymongo\n",
    "from full_task.crawn_data.rss_collect import RssColl\n",
    "from full_task.mongo_querry import mongoQuerry\n",
    "\n",
    "client = pymongo.MongoClient(\"mongodb://10.0.67.162:27017/\")\n",
    "\n",
    "mydb = client['task']\n",
    "event_collect = mydb['News']\n",
    "status_doc = {'_id':'0',\n",
    "              'curr_id':'0',\n",
    "              'curr_id_rss':'0',\n",
    "              'curr_timestamp':'0'}\n",
    "\"\"\"\n",
    "event_collect.insert_one(status_doc)\"\"\"\n",
    "query =  {'Rss_id': '4729467', 'Time_stamp': '1709355600'}\n",
    "\n",
    "client1 = mongoQuerry()\n",
    "\n",
    "a = mydb['News'].find({'_id': '1'})\n",
    "a = next(a,None)\n",
    "\n",
    "print(mydb,a)\n",
    "print(client.scan_find(collection='News', query=query))\n",
    "for x in event_collect.find():\n",
    "    print(x)\n"
   ]
  },
  {
   "cell_type": "markdown",
   "metadata": {},
   "source": [
    "import pymongo\n",
    "from full_task.Crawn_Data.Rss_collect import RssColl\n",
    "from full_task.mongo_querry import mongoQuerry\n",
    "\n"
   ]
  },
  {
   "cell_type": "code",
   "execution_count": 22,
   "metadata": {},
   "outputs": [
    {
     "name": "stdout",
     "output_type": "stream",
     "text": [
      "4729467 1709355600\n",
      "{'Title': \"Hội chứng di truyền 'đôi mắt buồn' khiến 6 phụ nữ cùng dòng họ vô sinh\", 'Link': 'https://vnexpress.net/hoi-chung-di-truyen-doi-mat-buon-khien-6-phu-nu-cung-dong-ho-vo-sinh-4729467.html', 'Date': 'Tue, 02 Apr 2024 12:00:00 +0700', 'Image': 'https://i1-suckhoe.vnecdn.net/2024/04/02/hi-nh-1-1-jpeg-1712030020-1712-1252-1213-1712030090.jpg?w=1200&h=0&q=100&dpr=1&fit=crop&s=rzfRujRWhhMLHzdodCVbSA', 'Rss_id': '4729467', 'Time_stamp': '1709355600'}\n",
      "4729525 1709355600\n",
      "{'Title': 'Có nên cho trẻ sơ sinh uống vitamin D?', 'Link': 'https://vnexpress.net/co-nen-cho-tre-so-sinh-uong-vitamin-d-4729525.html', 'Date': 'Tue, 02 Apr 2024 12:00:00 +0700', 'Image': 'https://i1-suckhoe.vnecdn.net/2024/04/02/dscf8473-jpg-1712032180-3008-1712032209.jpg?w=1200&h=0&q=100&dpr=1&fit=crop&s=wJOoeJuYDwU_Fm7sBCsXBA', 'Rss_id': '4729525', 'Time_stamp': '1709355600'}\n",
      "4729539 1709355600\n",
      "{'Title': 'VPBank ra mắt dòng thẻ tích hợp ghi nợ và tín dụng', 'Link': 'https://vnexpress.net/vpbank-ra-mat-dong-the-tich-hop-ghi-no-va-tin-dung-4729539.html', 'Date': 'Tue, 02 Apr 2024 12:00:00 +0700', 'Image': 'https://i1-kinhdoanh.vnecdn.net/2024/04/02/pr3-4442-1712029707-1712033107-7184-1712033126.jpg?w=1200&h=0&q=100&dpr=1&fit=crop&s=S82eL1OIEDRjo68_DdFRdQ', 'Rss_id': '4729539', 'Time_stamp': '1709355600'}\n",
      "4729545 1709355600\n",
      "{'Title': 'Tiến độ trục đường kết nối TP HCM - Long An', 'Link': 'https://vnexpress.net/tien-do-truc-duong-ket-noi-tp-hcm-long-an-4729545.html', 'Date': 'Tue, 02 Apr 2024 12:00:00 +0700', 'Image': 'https://i1-vnexpress.vnecdn.net/2024/04/02/lhbc-1712033667-2723-1712033777.png?w=1200&h=0&q=100&dpr=1&fit=crop&s=HDXBLoM_d6t_wRxyhckQJw', 'Rss_id': '4729545', 'Time_stamp': '1709355600'}\n",
      "4729310 1709355600\n",
      "{'Title': 'Elon Musk: Có 20% khả năng AI sẽ tiêu diệt loài người', 'Link': 'https://vnexpress.net/elon-musk-co-20-kha-nang-ai-se-tieu-diet-loai-nguoi-4729310.html', 'Date': 'Tue, 02 Apr 2024 12:00:00 +0700', 'Image': 'https://i1-sohoa.vnecdn.net/2024/04/01/2024-03-29t005352z-276238688-r-1507-8471-1711989875.jpg?w=1200&h=0&q=100&dpr=1&fit=crop&s=Oo50urYze4LEkSEUp_WKpA', 'Rss_id': '4729310', 'Time_stamp': '1709355600'}\n",
      "4729442 1709355600\n",
      "{'Title': 'Mắc kẹt trong bẫy thu nhập 10-15 triệu đồng sau tuổi 32', 'Link': 'https://vnexpress.net/mac-ket-trong-bay-thu-nhap-10-15-trieu-dong-sau-tuoi-32-4729442.html', 'Date': 'Tue, 02 Apr 2024 12:00:00 +0700', 'Image': 'https://i1-vnexpress.vnecdn.net/2024/04/02/chanviec1618287477161828749670-3931-5716-1712027730.jpg?w=1200&h=0&q=100&dpr=1&fit=crop&s=xgT9RF_V7HdX7Tt5anKrzw', 'Rss_id': '4729442', 'Time_stamp': '1709355600'}\n",
      "4729018 1709355748\n",
      "{'Title': 'Con gái Bình Minh gây chú ý với chiều cao 1,75 m', 'Link': 'https://vnexpress.net/con-gai-binh-minh-gay-chu-y-voi-chieu-cao-1-75-m-4729018.html', 'Date': 'Tue, 02 Apr 2024 12:02:28 +0700', 'Image': 'https://i1-giaitri.vnecdn.net/2024/04/01/CongaidienvienBinhMinh24-17119-3212-3917-1711963754.jpg?w=1200&h=0&q=100&dpr=1&fit=crop&s=iLvosfCH9xkO_WUahEeQ_A', 'Rss_id': '4729018', 'Time_stamp': '1709355748'}\n",
      "4729323 1709356147\n",
      "{'Title': 'Vụ tập kích tòa lãnh sự Iran tăng nhiệt xung đột Trung Đông', 'Link': 'https://vnexpress.net/vu-tap-kich-toa-lanh-su-iran-tang-nhiet-xung-dot-trung-dong-4729323.html', 'Date': 'Tue, 02 Apr 2024 12:09:07 +0700', 'Image': 'https://i1-vnexpress.vnecdn.net/2024/04/02/AP240925859132181712025722jpg1-2346-7812-1712031366.jpg?w=1200&h=0&q=100&dpr=1&fit=crop&s=PRE--Vsco24L0UVoVNuopw', 'Rss_id': '4729323', 'Time_stamp': '1709356147'}\n",
      "4727186 1709356500\n",
      "{'Title': 'Phố nào ngắn nhất ở Hà Nội?', 'Link': 'https://vnexpress.net/pho-nao-ngan-nhat-o-ha-noi-4727186.html', 'Date': 'Tue, 02 Apr 2024 12:15:00 +0700', 'Image': 'https://i1-vnexpress.vnecdn.net/2024/03/27/b64ad51d-05f4-4b58-84e2-a29bb0-4229-7178-1711512688.jpg?w=1200&h=0&q=100&dpr=1&fit=crop&s=TdLyTJbLkOPwdoAgr1u7OQ', 'Rss_id': '4727186', 'Time_stamp': '1709356500'}\n",
      "4729546 1709356834\n",
      "{'Title': 'Sát hại anh trai khi cự cãi', 'Link': 'https://vnexpress.net/sat-hai-anh-trai-khi-cu-cai-4729546.html', 'Date': 'Tue, 02 Apr 2024 12:20:34 +0700', 'Image': 'https://i1-vnexpress.vnecdn.net/2024/04/02/z5308078931776936580c45d5dcc1f-2841-4626-1712034211.jpg?w=1200&h=0&q=100&dpr=1&fit=crop&s=z5mbveU1PrvFlz1a2X5cUA', 'Rss_id': '4729546', 'Time_stamp': '1709356834'}\n",
      "4729254 1709359200\n",
      "{'Title': 'Ăn cà chua giảm nguy cơ ung thư', 'Link': 'https://vnexpress.net/an-ca-chua-giam-nguy-co-ung-thu-4729254.html', 'Date': 'Tue, 02 Apr 2024 13:00:00 +0700', 'Image': 'https://i1-suckhoe.vnecdn.net/2024/04/02/img5465-1712024433-1712024499-7889-1712025085.jpg?w=1200&h=0&q=100&dpr=1&fit=crop&s=_FcipHjXRFFxcOqHcT4dMw', 'Rss_id': '4729254', 'Time_stamp': '1709359200'}\n",
      "4729368 1709359200\n",
      "{'Title': 'VIB thông qua kế hoạch chia cổ tức 29,5%', 'Link': 'https://vnexpress.net/vib-thong-qua-ke-hoach-chia-co-tuc-29-5-4729368.html', 'Date': 'Tue, 02 Apr 2024 13:00:00 +0700', 'Image': 'https://i1-kinhdoanh.vnecdn.net/2024/04/02/z5308188630033-e861a87460bf283-9386-4453-1712036655.jpg?w=1200&h=0&q=100&dpr=1&fit=crop&s=F-gwH0Y4PWok1_C_27n0QQ', 'Rss_id': '4729368', 'Time_stamp': '1709359200'}\n",
      "4729540 1709359200\n",
      "{'Title': '150 hồ sơ ứng tuyển một vị trí marketing của Vinamilk', 'Link': 'https://vnexpress.net/150-ho-so-ung-tuyen-mot-vi-tri-marketing-cua-vinamilk-4729540.html', 'Date': 'Tue, 02 Apr 2024 13:00:00 +0700', 'Image': 'https://i1-kinhdoanh.vnecdn.net/2024/04/02/z5307342083326-17276fd8a85b752-5450-1155-1712033839.jpg?w=1200&h=0&q=100&dpr=1&fit=crop&s=Y_1CLbv_OKGlS6-5GROScQ', 'Rss_id': '4729540', 'Time_stamp': '1709359200'}\n",
      "4727077 1709359200\n",
      "{'Title': 'Lịch trình 7 ngày tự túc đi Nhật Bản ngắm hoa anh đào', 'Link': 'https://vnexpress.net/lich-trinh-7-ngay-tu-tuc-di-nhat-ban-ngam-hoa-anh-dao-4727077.html', 'Date': 'Tue, 02 Apr 2024 13:00:00 +0700', 'Image': 'https://i1-dulich.vnecdn.net/2024/04/02/kyoto-1712032358-3761-17120323-5551-2683-1712032464.jpg?w=1200&h=0&q=100&dpr=1&fit=crop&s=t7X6aR5DU0Ho0uJeYrIOSQ', 'Rss_id': '4727077', 'Time_stamp': '1709359200'}\n",
      "4729513 1709359507\n",
      "{'Title': 'Việt Nam có thể thu thêm gần 1.300 tỷ đồng từ bán tín chỉ carbon', 'Link': 'https://vnexpress.net/viet-nam-co-the-thu-them-gan-1-300-ty-dong-tu-ban-tin-chi-carbon-4729513.html', 'Date': 'Tue, 02 Apr 2024 13:05:07 +0700', 'Image': 'https://i1-kinhdoanh.vnecdn.net/2024/04/02/rung-cat-tien-jpeg-1712032681-5183-1712032891.jpg?w=1200&h=0&q=100&dpr=1&fit=crop&s=sW-do_FLy0v70RgjDM81SQ', 'Rss_id': '4729513', 'Time_stamp': '1709359507'}\n",
      "4729506 1709360561\n",
      "{'Title': 'Phát hiện ngọc trai trị giá 11.000 USD trong con ốc được tặng', 'Link': 'https://vnexpress.net/phat-hien-ngoc-trai-tri-gia-11-000-usd-trong-con-oc-duoc-tang-4729506.html', 'Date': 'Tue, 02 Apr 2024 13:22:41 +0700', 'Image': 'https://i1-vnexpress.vnecdn.net/2024/04/02/Untitled1-1712030786-7900-1712030888.jpg?w=1200&h=0&q=100&dpr=1&fit=crop&s=v5awZL6vWlVw44bdV_wwIg', 'Rss_id': '4729506', 'Time_stamp': '1709360561'}\n",
      "4729553 1709361535\n",
      "{'Title': 'Đốn hạ 15 cây thông trên đèo Prenn để bảo đảm an toàn', 'Link': 'https://vnexpress.net/don-ha-15-cay-thong-tren-deo-prenn-de-bao-dam-an-toan-4729553.html', 'Date': 'Tue, 02 Apr 2024 13:38:55 +0700', 'Image': 'https://i1-vnexpress.vnecdn.net/2024/04/02/Thongdeoprenn1-1712036540-1955-1712036907.jpg?w=1200&h=0&q=100&dpr=1&fit=crop&s=LfHBto_ci5aCwPmuJW0fEA', 'Rss_id': '4729553', 'Time_stamp': '1709361535'}\n",
      "4729352 1709361669\n",
      "{'Title': \"Nuôi hải sản bằng 'năng lượng lạnh'\", 'Link': 'https://vnexpress.net/nuoi-hai-san-bang-nang-luong-lanh-4729352.html', 'Date': 'Tue, 02 Apr 2024 13:41:09 +0700', 'Image': 'https://i1-vnexpress.vnecdn.net/2024/04/02/ThuysanLNG-1712033602-1366-1712033881.jpg?w=1200&h=0&q=100&dpr=1&fit=crop&s=oPbYWjArDItQhCp-Nkpg2g', 'Rss_id': '4729352', 'Time_stamp': '1709361669'}\n",
      "4729431 1709361681\n",
      "{'Title': 'Điểm chung của các ca nhập viện sau khi dùng men gạo đỏ Nhật Bản', 'Link': 'https://vnexpress.net/diem-chung-cua-cac-ca-nhap-vien-sau-khi-dung-men-gao-do-nhat-ban-4729431.html', 'Date': 'Tue, 02 Apr 2024 13:41:21 +0700', 'Image': 'https://i1-suckhoe.vnecdn.net/2024/04/02/image-l-jpeg-1712026899-8774-1712027044.jpg?w=1200&h=0&q=100&dpr=1&fit=crop&s=JlaNDOiOxSJKLtIVG8UlNg', 'Rss_id': '4729431', 'Time_stamp': '1709361681'}\n",
      "4728994 1709361746\n",
      "{'Title': 'Học phí trường quốc tế ở Hà Nội lên tới 916 triệu đồng', 'Link': 'https://vnexpress.net/hoc-phi-truong-quoc-te-o-ha-noi-len-toi-916-trieu-dong-4728994.html', 'Date': 'Tue, 02 Apr 2024 13:42:26 +0700', 'Image': 'https://i1-vnexpress.vnecdn.net/2024/04/02/432863601-932486435548285-8292-6684-4566-1712040599.jpg?w=1200&h=0&q=100&dpr=1&fit=crop&s=EkUUa88rAhd0QockI79rug', 'Rss_id': '4728994', 'Time_stamp': '1709361746'}\n",
      "4729566 1709361803\n",
      "{'Title': 'Cổ phiếu của Sacombank bị bán tháo', 'Link': 'https://vnexpress.net/co-phieu-cua-sacombank-bi-ban-thao-4729566.html', 'Date': 'Tue, 02 Apr 2024 13:43:23 +0700', 'Image': 'https://i1-kinhdoanh.vnecdn.net/2024/04/02/434901271-1447410846167627-187-9567-5799-1712042370.gif?w=1200&h=0&q=100&dpr=1&fit=crop&s=yXgiapoHgTApPHqDhKYj_Q&t=image', 'Rss_id': '4729566', 'Time_stamp': '1709361803'}\n",
      "4729514 1709362463\n",
      "{'Title': \"Loạt phẫu thuật giúp người phụ nữ U60 'cải lão hoàn đồng'\", 'Link': 'https://vnexpress.net/loat-phau-thuat-giup-nguoi-phu-nu-u60-cai-lao-hoan-dong-4729514.html', 'Date': 'Tue, 02 Apr 2024 13:54:23 +0700', 'Image': 'https://i1-suckhoe.vnecdn.net/2024/04/02/73bb1a50339c19d86498d685a1-jpg-3911-9888-1712031394.png?w=1200&h=0&q=100&dpr=1&fit=crop&s=eZzzRorMIwxYCf-viwefcg', 'Rss_id': '4729514', 'Time_stamp': '1709362463'}\n",
      "4729554 1709362470\n",
      "{'Title': \"Sản phụ kiện bệnh viện vì bị 'phá thai nhầm'\", 'Link': 'https://vnexpress.net/san-phu-kien-benh-vien-vi-bi-pha-thai-nham-4729554.html', 'Date': 'Tue, 02 Apr 2024 13:54:30 +0700', 'Image': 'https://i1-vnexpress.vnecdn.net/2024/04/02/wnzkg6rxv5eenciricbekq4kbi-jpe-9678-3179-1712038374.jpg?w=1200&h=0&q=100&dpr=1&fit=crop&s=Jf2_lzwPAxqzICJRFw4gzQ', 'Rss_id': '4729554', 'Time_stamp': '1709362470'}\n",
      "4729454 1709362535\n",
      "{'Title': \"Dự án UAV tỷ đô bị ví như 'thảm họa' của Anh\", 'Link': 'https://vnexpress.net/du-an-uav-ty-do-bi-vi-nhu-tham-hoa-cua-anh-4729454.html', 'Date': 'Tue, 02 Apr 2024 13:55:35 +0700', 'Image': 'https://i1-vnexpress.vnecdn.net/2024/04/02/watchkeeper-1712032054-9323-1712032078.jpg?w=1200&h=0&q=100&dpr=1&fit=crop&s=0N-mArZdPdSkUu5tT7cPhQ', 'Rss_id': '4729454', 'Time_stamp': '1709362535'}\n",
      "4729463 1709362781\n",
      "{'Title': 'Sách về tín ngưỡng thờ cúng Hùng Vương', 'Link': 'https://vnexpress.net/sach-ve-tin-nguong-tho-cung-hung-vuong-4729463.html', 'Date': 'Tue, 02 Apr 2024 13:59:41 +0700', 'Image': 'https://i1-giaitri.vnecdn.net/2024/04/02/z53078043717788dcf4e69e1b3f721-6461-4442-1712030421.jpg?w=1200&h=0&q=100&dpr=1&fit=crop&s=Pe0fStOw-5Pcv6wbv3GbBg', 'Rss_id': '4729463', 'Time_stamp': '1709362781'}\n",
      "4729245 1709362800\n",
      "{'Title': 'Sữa đậu nành - thức uống gắn với tuổi thơ nhiều thế hệ', 'Link': 'https://vnexpress.net/sua-dau-nanh-thuc-uong-gan-voi-tuoi-tho-nhieu-the-he-4729245.html', 'Date': 'Tue, 02 Apr 2024 14:00:00 +0700', 'Image': 'https://i1-giadinh.vnecdn.net/2024/04/02/Image-ExtractWord-2-Out-2197-1712030080.png?w=1200&h=0&q=100&dpr=1&fit=crop&s=_COIvXweQZmhvYm1C_8WUQ', 'Rss_id': '4729245', 'Time_stamp': '1709362800'}\n",
      "4729388 1709362800\n",
      "{'Title': '5 loại quả nhiều chất đạm trẻ nên ăn thường xuyên', 'Link': 'https://vnexpress.net/5-loai-qua-nhieu-chat-dam-tre-nen-an-thuong-xuyen-4729388.html', 'Date': 'Tue, 02 Apr 2024 14:00:00 +0700', 'Image': 'https://i1-suckhoe.vnecdn.net/2024/04/02/90695ca2289c87c2de8d-171202584-3480-9032-1712025935.jpg?w=1200&h=0&q=100&dpr=1&fit=crop&s=PIbhGEAXzlxU64wOOwPwwg', 'Rss_id': '4729388', 'Time_stamp': '1709362800'}\n",
      "4729477 1709362800\n",
      "{'Title': 'Có gì trong trung tâm giáo dục, giải trí, sáng tạo tại Vinh?', 'Link': 'https://vnexpress.net/co-gi-trong-trung-tam-giao-duc-giai-tri-sang-tao-tai-vinh-4729477.html', 'Date': 'Tue, 02 Apr 2024 14:00:00 +0700', 'Image': 'https://i1-vnexpress.vnecdn.net/2024/04/02/1-6639-1712026342-1712041861-9018-1712041876.jpg?w=1200&h=0&q=100&dpr=1&fit=crop&s=EsEdSACd5b7IxoGY8hcP5A', 'Rss_id': '4729477', 'Time_stamp': '1709362800'}\n",
      "4729563 1709362800\n",
      "{'Title': '5 cách trị sẹo rỗ', 'Link': 'https://vnexpress.net/5-cach-tri-seo-ro-4729563.html', 'Date': 'Tue, 02 Apr 2024 14:00:00 +0700', 'Image': 'https://i1-suckhoe.vnecdn.net/2024/04/02/laser-co2-tri-se-o-lo-m-171203-4499-7298-1712038766.jpg?w=1200&h=0&q=100&dpr=1&fit=crop&s=cqPaTdS1WN12GNo3BFFsbQ', 'Rss_id': '4729563', 'Time_stamp': '1709362800'}\n",
      "4729508 1709362800\n",
      "{'Title': \"'Tên phường, xã dài dòng sau khi sáp nhập ở Hà Nội'\", 'Link': 'https://vnexpress.net/ten-phuong-xa-dai-dong-sau-khi-sap-nhap-o-ha-noi-4729508.html', 'Date': 'Tue, 02 Apr 2024 14:00:00 +0700', 'Image': 'https://i1-vnexpress.vnecdn.net/2024/04/02/hoguomjpg3927170101189938-1712-9445-8600-1712031013.jpg?w=1200&h=0&q=100&dpr=1&fit=crop&s=4txpwjCnNN-P47oovIrLEQ', 'Rss_id': '4729508', 'Time_stamp': '1709362800'}\n",
      "4728990 1709363087\n",
      "{'Title': 'Trận địa S-300 Ukraine nổ tung sau đòn tập kích của Nga', 'Link': 'https://vnexpress.net/tran-dia-s-300-ukraine-no-tung-sau-don-tap-kich-cua-nga-4728990.html', 'Date': 'Tue, 02 Apr 2024 14:04:47 +0700', 'Image': 'https://i1-vnexpress.vnecdn.net/2024/04/01/s3001-1711941467-7802-1711943991.gif?w=1200&h=0&q=100&dpr=1&fit=crop&s=U3pz58mIw9kTK38dD3wPHw&t=image', 'Rss_id': '4728990', 'Time_stamp': '1709363087'}\n",
      "4729461 1709363140\n",
      "{'Title': \"Luật sư: 'Dự án Mũi Đèn Đỏ có giá khoảng 125.000 tỷ đồng'\", 'Link': 'https://vnexpress.net/luat-su-du-an-mui-den-do-co-gia-khoang-125-000-ty-dong-4729461.html', 'Date': 'Tue, 02 Apr 2024 14:05:40 +0700', 'Image': 'https://i1-vnexpress.vnecdn.net/2024/04/02/mui-den-do-jpeg-1712038876-7053-1712039205.jpg?w=1200&h=0&q=100&dpr=1&fit=crop&s=94uxlOjUBQnseAcg-BDXZg', 'Rss_id': '4729461', 'Time_stamp': '1709363140'}\n",
      "4729557 1709363371\n",
      "{'Title': \"'Bộ sậu' lãnh đạo mới của Man Utd như thế nào\", 'Link': 'https://vnexpress.net/bo-sau-lanh-dao-moi-cua-man-utd-nhu-the-nao-4729557.html', 'Date': 'Tue, 02 Apr 2024 14:09:31 +0700', 'Image': 'https://i1-thethao.vnecdn.net/2024/04/02/wilcox-jpeg-1712040593-1712040-4598-5412-1712041415.jpg?w=1200&h=0&q=100&dpr=1&fit=crop&s=IhTqgbik_TrXx7iYJPGX-g', 'Rss_id': '4729557', 'Time_stamp': '1709363371'}\n",
      "4729580 1709363424\n",
      "{'Title': 'Khởi công trụ sở làm việc các cơ quan tỉnh Khánh Hòa', 'Link': 'https://vnexpress.net/khoi-cong-tru-so-lam-viec-cac-co-quan-tinh-khanh-hoa-4729580.html', 'Date': 'Tue, 02 Apr 2024 14:10:24 +0700', 'Image': 'https://i1-vnexpress.vnecdn.net/2024/04/02/kh-pctt02-r44-1712040873-4578-1712040949.jpg?w=1200&h=0&q=100&dpr=1&fit=crop&s=bJGF-D0fYEmVcnsVTXvV1Q', 'Rss_id': '4729580', 'Time_stamp': '1709363424'}\n",
      "4729392 1709363779\n",
      "{'Title': \"Xavi: 'Yamal có thể mở ra một kỷ nguyên bóng đá'\", 'Link': 'https://vnexpress.net/xavi-yamal-co-the-mo-ra-mot-ky-nguyen-bong-da-4729392.html', 'Date': 'Tue, 02 Apr 2024 14:16:19 +0700', 'Image': 'https://i1-thethao.vnecdn.net/2024/04/02/yamal-1712029937-1712029952-7153-1712030058.jpg?w=1200&h=0&q=100&dpr=1&fit=crop&s=195hIjgCT8j90R2CRSxSkw', 'Rss_id': '4729392', 'Time_stamp': '1709363779'}\n",
      "4729366 1709364300\n",
      "{'Title': 'Manulife Việt Nam trả hơn 8.600 tỷ quyền lợi bảo hiểm', 'Link': 'https://vnexpress.net/manulife-viet-nam-tra-hon-8-600-ty-quyen-loi-bao-hiem-4729366.html', 'Date': 'Tue, 02 Apr 2024 14:25:00 +0700', 'Image': 'https://i1-kinhdoanh.vnecdn.net/2024/04/02/HINH-ANH-4463-1712034543.jpg?w=1200&h=0&q=100&dpr=1&fit=crop&s=RM2cTyBKlKXX9ZyhhuG2RA', 'Rss_id': '4729366', 'Time_stamp': '1709364300'}\n",
      "4729436 1709364413\n",
      "{'Title': 'Sự thật cảnh bay lượn như chim trong phim kiếm hiệp', 'Link': 'https://vnexpress.net/su-that-canh-bay-luon-nhu-chim-trong-phim-kiem-hiep-4729436.html', 'Date': 'Tue, 02 Apr 2024 14:26:53 +0700', 'Image': 'https://i1-vnexpress.vnecdn.net/2024/04/02/ezgif60c68e3ea22-1712042697-5623-1712042768.gif?w=1200&h=0&q=100&dpr=1&fit=crop&s=-LT0yFtketyB_kOIhu20yw&t=image', 'Rss_id': '4729436', 'Time_stamp': '1709364413'}\n",
      "4729615 1709364995\n",
      "{'Title': 'Các ứng viên tranh Áo Vàng giải xe đạp xuyên Việt 2024', 'Link': 'https://vnexpress.net/cac-ung-vien-tranh-ao-vang-giai-xe-dap-xuyen-viet-2024-4729615.html', 'Date': 'Tue, 02 Apr 2024 14:36:35 +0700', 'Image': 'https://i1-thethao.vnecdn.net/2024/04/02/ivanov-timofei-tp-hcm-jpeg-171-3736-4303-1712043320.jpg?w=1200&h=0&q=100&dpr=1&fit=crop&s=O0CP-YkG2R72PKJRRxXQbg', 'Rss_id': '4729615', 'Time_stamp': '1709364995'}\n",
      "4729581 1709365673\n",
      "{'Title': 'Ôtô đầu kéo tông chết người rồi bỏ chạy', 'Link': 'https://vnexpress.net/oto-dau-keo-tong-chet-nguoi-roi-bo-chay-4729581.html', 'Date': 'Tue, 02 Apr 2024 14:47:53 +0700', 'Image': 'https://i1-vnexpress.vnecdn.net/2024/04/02/IMG-0789-JPG-4119-1712041328.jpg?w=1200&h=0&q=100&dpr=1&fit=crop&s=-hfKzaD8xV2caFMRHil37g', 'Rss_id': '4729581', 'Time_stamp': '1709365673'}\n",
      "4727762 1709366211\n",
      "{'Title': 'Làm gì sau khi bị sa thải?', 'Link': 'https://vnexpress.net/lam-gi-sau-khi-bi-sa-thai-4727762.html', 'Date': 'Tue, 02 Apr 2024 14:56:51 +0700', 'Image': 'https://i1-giadinh.vnecdn.net/2024/04/02/screen-shot-2024-03-28-at-15-3-6509-6239-1712042802.png?w=1200&h=0&q=100&dpr=1&fit=crop&s=0vgVWdzQOOSobZFbA86tSQ', 'Rss_id': '4727762', 'Time_stamp': '1709366211'}\n",
      "4729590 1709366305\n",
      "{'Title': 'Thị trường văn phòng Hà Nội, TP HCM sắp vào giai đoạn suy giảm', 'Link': 'https://vnexpress.net/thi-truong-van-phong-ha-noi-tp-hcm-sap-vao-giai-doan-suy-giam-4729590.html', 'Date': 'Tue, 02 Apr 2024 14:58:25 +0700', 'Image': 'https://i1-vnexpress.vnecdn.net/2024/04/02/DJI05751-1712041119-9409-1712041617.jpg?w=1200&h=0&q=100&dpr=1&fit=crop&s=bjbB81-hOesXaZwTvKmOeg', 'Rss_id': '4729590', 'Time_stamp': '1709366305'}\n",
      "4729473 1709366377\n",
      "{'Title': 'Iran nói Mỹ phải chịu trách nhiệm vụ Israel tập kích khu vực sứ quán', 'Link': 'https://vnexpress.net/iran-noi-my-phai-chiu-trach-nhiem-vu-israel-tap-kich-khu-vuc-su-quan-4729473.html', 'Date': 'Tue, 02 Apr 2024 14:59:37 +0700', 'Image': 'https://i1-vnexpress.vnecdn.net/2024/04/02/afp-20240401-34n82va-v1-highre-8670-2804-1712033362.jpg?w=1200&h=0&q=100&dpr=1&fit=crop&s=60ZPbR-3vLlWvwmKio3PWA', 'Rss_id': '4729473', 'Time_stamp': '1709366377'}\n",
      "4729457 1709366388\n",
      "{'Title': 'Bạc Liêu đứng đầu, Hải Phòng tụt hạng về thủ tục hành chính công', 'Link': 'https://vnexpress.net/bac-lieu-dung-dau-hai-phong-tut-hang-ve-thu-tuc-hanh-chinh-cong-4729457.html', 'Date': 'Tue, 02 Apr 2024 14:59:48 +0700', 'Image': 'https://i1-vnexpress.vnecdn.net/2024/04/02/z5138324987978-43ed2fa40f63c82-9192-9273-1712032969.jpg?w=1200&h=0&q=100&dpr=1&fit=crop&s=w9qZe4qIBGbjbP1IXWi1nw', 'Rss_id': '4729457', 'Time_stamp': '1709366388'}\n",
      "4729443 1709366400\n",
      "{'Title': 'Có thể điều trị suy thận bằng tế bào gốc không?', 'Link': 'https://vnexpress.net/co-the-dieu-tri-suy-than-bang-te-bao-goc-khong-4729443.html', 'Date': 'Tue, 02 Apr 2024 15:00:00 +0700', 'Image': 'https://i1-suckhoe.vnecdn.net/2024/04/02/screen-shot-2024-04-02-at-10-2-6110-8175-1712038133.png?w=1200&h=0&q=100&dpr=1&fit=crop&s=_OLi4xwO2SgQjjYHbZNZ-Q', 'Rss_id': '4729443', 'Time_stamp': '1709366400'}\n",
      "4729452 1709366400\n",
      "{'Title': 'Tại sao nên ăn rong biển thường xuyên?', 'Link': 'https://vnexpress.net/tai-sao-nen-an-rong-bien-thuong-xuyen-4729452.html', 'Date': 'Tue, 02 Apr 2024 15:00:00 +0700', 'Image': 'https://i1-suckhoe.vnecdn.net/2024/04/02/0ccb09b1-76a8-48c9-95df-1fe20f-1247-2842-1712028588.jpg?w=1200&h=0&q=100&dpr=1&fit=crop&s=VJFzMjOtTwRbwQ4Mt-jl2w', 'Rss_id': '4729452', 'Time_stamp': '1709366400'}\n",
      "4728487 1709366619\n",
      "{'Title': 'Những người bỗng dưng biến mất ở Nhật', 'Link': 'https://vnexpress.net/nhung-nguoi-bong-dung-bien-mat-o-nhat-4728487.html', 'Date': 'Tue, 02 Apr 2024 15:03:39 +0700', 'Image': 'https://i1-vnexpress.vnecdn.net/2024/04/01/afp-20230405-33cn94g-v1-highre-6779-2084-1711945911.jpg?w=1200&h=0&q=100&dpr=1&fit=crop&s=sXC0Id8-neMYHsF60kyLVQ', 'Rss_id': '4728487', 'Time_stamp': '1709366619'}\n"
     ]
    }
   ],
   "source": [
    "from full_task.crawl_data.Rss_collect import RssColl\n",
    "from full_task.mongo_querry import mongoQuerry\n",
    "\n",
    "collect_rss = RssColl()\n",
    "data_collect_rss = collect_rss.time_index()\n",
    "for data in data_collect_rss:\n",
    "    print(data['Rss_id'],data['Time_stamp'])\n",
    "    print(data)\n",
    "\n",
    "print(mongoQuerry().status_find('News'))\n",
    "\n",
    "\n"
   ]
  },
  {
   "cell_type": "code",
   "execution_count": 9,
   "metadata": {},
   "outputs": [
    {
     "name": "stdout",
     "output_type": "stream",
     "text": [
      "ok\n"
     ]
    }
   ],
   "source": [
    "if 'a' != None:\n",
    "    print('ok')"
   ]
  }
 ],
 "metadata": {
  "kernelspec": {
   "display_name": ".venv",
   "language": "python",
   "name": "python3"
  },
  "language_info": {
   "codemirror_mode": {
    "name": "ipython",
    "version": 3
   },
   "file_extension": ".py",
   "mimetype": "text/x-python",
   "name": "python",
   "nbconvert_exporter": "python",
   "pygments_lexer": "ipython3",
   "version": "3.10.12"
  }
 },
 "nbformat": 4,
 "nbformat_minor": 2
}
