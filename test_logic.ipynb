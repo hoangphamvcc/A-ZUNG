{
 "cells": [
  {
   "cell_type": "code",
   "execution_count": 8,
   "metadata": {},
   "outputs": [
    {
     "name": "stdout",
     "output_type": "stream",
     "text": [
      "1711515948\n",
      "1711516073\n",
      "1711516255\n",
      "1711516299\n",
      "1711516971\n",
      "1711518192\n",
      "1711518727\n",
      "1711519196\n",
      "1711519200\n",
      "1711519200\n",
      "1711519200\n",
      "1711519200\n",
      "1711519200\n",
      "1711519797\n",
      "1711519970\n",
      "1711520498\n",
      "1711521000\n",
      "1711521196\n",
      "1711521401\n",
      "1711521630\n",
      "1711522426\n",
      "1711522473\n",
      "1711522526\n",
      "1711522663\n",
      "1711522800\n",
      "1711522800\n",
      "1711522800\n",
      "1711522800\n",
      "1711522800\n",
      "1711522845\n",
      "1711523523\n",
      "1711523554\n",
      "1711523604\n",
      "1711523724\n",
      "1711523822\n",
      "1711524546\n",
      "1711524600\n",
      "1711524600\n",
      "1711525213\n",
      "1711525445\n",
      "1711525500\n",
      "1711525510\n",
      "1711526400\n",
      "1711526400\n",
      "1711526400\n",
      "1711526400\n",
      "1711526400\n",
      "1711526400\n",
      "1711526480\n",
      "1711526652\n",
      "1711527071\n"
     ]
    }
   ],
   "source": [
    "from bs4 import BeautifulSoup\n",
    "import requests\n",
    "import datetime\n",
    "from datetime import datetime\n",
    "\n",
    "\n",
    "url = requests.get('https://vnexpress.net/rss/tin-moi-nhat.rss')\n",
    "\n",
    "soup = BeautifulSoup(url.content,'xml')\n",
    "items = soup.find_all('item')\n",
    "items.reverse()\n",
    "\n",
    "for i, item in enumerate(items):\n",
    "    time4 = item.pubDate.text\n",
    "    time1 = time4.split(\" \")\n",
    "    time2 = \" \".join([\"-\".join([time1[3], '03', time1[1]]), time1[4]])\n",
    "    date_format = '%Y-%m-%d %H:%M:%S'\n",
    "    time3 = datetime.strptime(time2, date_format)\n",
    "    timestamp = int(round(time3.timestamp()))\n",
    "    print(timestamp)\n",
    "    #print(item.enclosure['url'])\n",
    "\n",
    "\n"
   ]
  },
  {
   "cell_type": "code",
   "execution_count": null,
   "metadata": {},
   "outputs": [],
   "source": [
    "from datetime import datetime\n",
    "\n",
    "curr_dt = datetime.now()\n",
    "timestamp = int(round(curr_dt.timestamp()))\n",
    "print(timestamp)"
   ]
  },
  {
   "cell_type": "code",
   "execution_count": 4,
   "metadata": {},
   "outputs": [
    {
     "name": "stdout",
     "output_type": "stream",
     "text": [
      "{'name': 'Melanie Greer', 'add': '1982'}\n",
      "{'name': 'Kelly Taylor', 'add': '2019'}\n"
     ]
    },
    {
     "ename": "KeyboardInterrupt",
     "evalue": "",
     "output_type": "error",
     "traceback": [
      "\u001b[0;31m---------------------------------------------------------------------------\u001b[0m",
      "\u001b[0;31mKeyboardInterrupt\u001b[0m                         Traceback (most recent call last)",
      "Cell \u001b[0;32mIn[4], line 32\u001b[0m\n\u001b[1;32m     28\u001b[0m \u001b[38;5;28mprint\u001b[39m(user)\n\u001b[1;32m     29\u001b[0m producer\u001b[38;5;241m.\u001b[39msend(\n\u001b[1;32m     30\u001b[0m     \u001b[38;5;124m'\u001b[39m\u001b[38;5;124mtest123\u001b[39m\u001b[38;5;124m'\u001b[39m,user\n\u001b[1;32m     31\u001b[0m )\n\u001b[0;32m---> 32\u001b[0m \u001b[43mtime\u001b[49m\u001b[38;5;241;43m.\u001b[39;49m\u001b[43msleep\u001b[49m\u001b[43m(\u001b[49m\u001b[38;5;241;43m3\u001b[39;49m\u001b[43m)\u001b[49m\n",
      "\u001b[0;31mKeyboardInterrupt\u001b[0m: "
     ]
    }
   ],
   "source": [
    "from time import time\n",
    "from kafka import KafkaProducer\n",
    "from faker import Faker\n",
    "import json, time\n",
    "\n",
    "faker = Faker()\n",
    "\n",
    "def get_register():\n",
    "    return {\n",
    "        'name': faker.name(),\n",
    "        'add' : faker.year()\n",
    "    }\n",
    "\n",
    "def get_partitioner(key_bytes, all_partitions, available_partitions):\n",
    "    return 0\n",
    "\n",
    "def json_serializer(data):\n",
    "    return json.dumps(data).encode('utf-8')\n",
    "\n",
    "producer = KafkaProducer(\n",
    "    bootstrap_servers = ['10.5.69.117:9092'], # server name\n",
    "    value_serializer = json_serializer, # function callable\n",
    "    # partitioner = get_partitioner, # function return 0 >>> only partition_0 can received messages\n",
    "    )\n",
    "\n",
    "while 1==1:\n",
    "    user = get_register()\n",
    "    print(user)\n",
    "    producer.send(\n",
    "        'test123',user\n",
    "    )\n",
    "    time.sleep(3)\n"
   ]
  },
  {
   "cell_type": "code",
   "execution_count": 4,
   "metadata": {},
   "outputs": [
    {
     "data": {
      "text/plain": [
       "'GXO t\\\\u0103ng s\\\\u1eed d\\\\u1ee5ng c\\\\u00f4ng ngh\\\\u1ec7 th\\\\u1ecb gi\\\\u00e1c'"
      ]
     },
     "execution_count": 4,
     "metadata": {},
     "output_type": "execute_result"
    }
   ],
   "source": [
    "a = b'GXO t\\\\u0103ng s\\\\u1eed d\\\\u1ee5ng c\\\\u00f4ng ngh\\\\u1ec7 th\\\\u1ecb gi\\\\u00e1c'\n",
    "a.decode('latin-1')"
   ]
  },
  {
   "cell_type": "code",
   "execution_count": 25,
   "metadata": {},
   "outputs": [
    {
     "name": "stdout",
     "output_type": "stream",
     "text": [
      "{\"Title\": \"Anh em ru\\u1ed9t c\\u00f9ng l\\u00e0 th\\u1ee7 khoa t\\u1ed1t nghi\\u1ec7p \\u0111\\u1ea1i h\\u1ecdc Nh\\u1eadt\"}\n",
      "Anh em ruột cùng là thủ khoa tốt nghiệp đại học Nhật\n"
     ]
    }
   ],
   "source": [
    "import json\n",
    "def json_serializer(data):\n",
    "    return json.dumps(data).encode('utf-8')\n",
    "\n",
    "\n",
    "\n",
    "a = {\"Title\":\"Anh em ruột cùng là thủ khoa tốt nghiệp đại học Nhật\"}\n",
    "\n",
    "#print(a.encode('utf-8'))\n",
    "b = json.dumps(a)\n",
    "print(b)\n",
    "c = json.loads(b)\n",
    "print(c['Title'])"
   ]
  },
  {
   "cell_type": "code",
   "execution_count": 17,
   "metadata": {},
   "outputs": [
    {
     "data": {
      "text/plain": [
       "{'ok': False,\n",
       " 'error_code': 400,\n",
       " 'description': 'Bad Request: wrong file identifier/HTTP URL specified'}"
      ]
     },
     "execution_count": 17,
     "metadata": {},
     "output_type": "execute_result"
    }
   ],
   "source": [
    "import requests\n",
    "\n",
    "class Bot_send(object):\n",
    "    def __init__(self, message):\n",
    "        self.message = message\n",
    "        self.image = self.message['Image']\n",
    "        self.TOKEN = '7093067808:AAEfPz21IUweO0uH2Afu1y_V5Mrc_8cdohs'\n",
    "        self.CHAT_ID1 = '-1002004471961'\n",
    "\n",
    "    def send(self):\n",
    "        url = f'https://api.telegram.org/bot{self.TOKEN}/sendPhoto'\n",
    "        #url = f'https://api.telegram.org/bot{self.TOKEN}/sendPhoto?chat_id={self.CHAT_ID1}&parse_mode=HTML&caption={self.message}&photo={self.image}'\n",
    "        msg1 ={\n",
    "            \"chat_id\" : \n",
    "        }\n",
    "        r = requests.get(url,data=msg1)\n",
    "        return r.json()\n",
    "    \n",
    "\n"
   ]
  },
  {
   "cell_type": "code",
   "execution_count": 22,
   "metadata": {},
   "outputs": [
    {
     "name": "stdout",
     "output_type": "stream",
     "text": [
      "{\"ok\":false,\"error_code\":400,\"description\":\"Bad Request: wrong remote file identifier specified: Wrong character in the string\"}\n"
     ]
    }
   ],
   "source": [
    "import requests\n",
    "import time\n",
    "\n",
    "base_url = \"https://api.telegram.org/bot7093067808:AAEfPz21IUweO0uH2Afu1y_V5Mrc_8cdohs/sendPhoto\"\n",
    "\n",
    "parameters = {\n",
    "    \"chat_id\" : \"-1002004471961\",\n",
    "    \"photo\" : open(\"/home/user/test/logo.png\",'rb'),\n",
    "    \"caption\" : \"here is travel photo for you\"\n",
    "}\n",
    "\n",
    "resp = requests.get(base_url, data = parameters)\n",
    "print(resp.text)"
   ]
  },
  {
   "cell_type": "code",
   "execution_count": 19,
   "metadata": {},
   "outputs": [],
   "source": [
    "def send_photo(chat_id, file_opened):\n",
    "    method = \"sendPhoto\"\n",
    "    params = {'chat_id': chat_id}\n",
    "    files = {'photo': file_opened}\n",
    "    resp = requests.post(api_url + method, params, files=files)\n",
    "    return resp\n",
    "\n",
    "send_photo(chat_id, open(file_path, 'rb'))"
   ]
  },
  {
   "cell_type": "code",
   "execution_count": 19,
   "metadata": {},
   "outputs": [
    {
     "name": "stdout",
     "output_type": "stream",
     "text": [
      "['product_list', 'test1', 'product_detail']\n",
      "{'_id': ObjectId('6606870bd81ce07133e9f4eb'), 'Name': 'Product_new_0', 'Option_1': [ObjectId('660688afd81ce07133e9f4f5'), ObjectId('660688afd81ce07133e9f4f7')]}\n",
      "{'_id': '0', 'Name': 'Product_0', 'Option_1': 'notcheck'}\n",
      "{'_id': '1', 'Name': 'Product_1', 'Option_1': 'notcheck'}\n",
      "{'_id': '2', 'Name': 'Product_2', 'Option_1': 'notcheck'}\n",
      "{'_id': '3', 'Name': 'Product_3', 'Option_1': 'notcheck'}\n",
      "{'_id': '4', 'Name': 'Product_4', 'Option_1': 'notcheck'}\n",
      "{'_id': '5', 'Name': 'Product_5', 'Option_1': 'notcheck'}\n",
      "{'_id': '6', 'Name': 'Product_6', 'Option_1': 'notcheck'}\n",
      "{'_id': ObjectId('6606870bd81ce07133e9f4eb'), 'Name': 'Product_new_0', 'Option_1': [ObjectId('660688afd81ce07133e9f4f5'), ObjectId('660688afd81ce07133e9f4f7')]}\n",
      "{'_id': ObjectId('6606870bd81ce07133e9f4ec'), 'Name': 'Product_new_1', 'Option_1': [ObjectId('660688afd81ce07133e9f4f5')]}\n",
      "{'_id': ObjectId('6606870bd81ce07133e9f4ed'), 'Name': 'Product_new_2', 'Option_1': [ObjectId('660688afd81ce07133e9f4f5'), ObjectId('660688afd81ce07133e9f4f9')]}\n",
      "{'_id': ObjectId('6606870bd81ce07133e9f4ee'), 'Name': 'Product_new_3', 'Option_1': [ObjectId('660688afd81ce07133e9f4f5')]}\n",
      "{'_id': ObjectId('6606870bd81ce07133e9f4ef'), 'Name': 'Product_new_4', 'Option_1': [ObjectId('660688afd81ce07133e9f4f5'), ObjectId('660688afd81ce07133e9f4f7'), ObjectId('660688afd81ce07133e9f4f7'), ObjectId('660688afd81ce07133e9f4f7'), ObjectId('660688afd81ce07133e9f4f7'), ObjectId('660688afd81ce07133e9f4f7'), ObjectId('660688afd81ce07133e9f4f7'), ObjectId('660688afd81ce07133e9f4f7'), ObjectId('660688afd81ce07133e9f4f7'), ObjectId('660688afd81ce07133e9f4f7'), ObjectId('660688afd81ce07133e9f4f7')]}\n",
      "{'_id': ObjectId('6606870bd81ce07133e9f4f0'), 'Name': 'Product_new_5', 'Option_1': 'notcheck'}\n",
      "{'_id': ObjectId('6606870bd81ce07133e9f4f1'), 'Name': 'Product_new_6', 'Option_1': 'notcheck'}\n",
      "{'_id': ObjectId('66069815d81ce07133e9f52a'), 'Name': 'Product_new_0', 'Option_1': 'notcheck'}\n",
      "{'_id': ObjectId('66069815d81ce07133e9f52b'), 'Name': 'Product_new_1', 'Option_1': 'notcheck'}\n",
      "{'_id': ObjectId('66069815d81ce07133e9f52c'), 'Name': 'Product_new_2', 'Option_1': 'notcheck'}\n",
      "{'_id': ObjectId('66069815d81ce07133e9f52d'), 'Name': 'Product_new_3', 'Option_1': 'notcheck'}\n",
      "{'_id': ObjectId('66069815d81ce07133e9f52e'), 'Name': 'Product_new_4', 'Option_1': 'notcheck'}\n",
      "{'_id': ObjectId('66069815d81ce07133e9f52f'), 'Name': 'Product_new_5', 'Option_1': 'notcheck'}\n",
      "{'_id': ObjectId('66069815d81ce07133e9f530'), 'Name': 'Product_new_6', 'Option_1': 'notcheck'}\n"
     ]
    },
    {
     "data": {
      "text/plain": [
       "\"    a = x['Option_1'][0]\\n    for x1 in pro_detail_collect.find({'_id':ObjectId('{}'.format(a))}):\\n        print(x1)\""
      ]
     },
     "execution_count": 19,
     "metadata": {},
     "output_type": "execute_result"
    }
   ],
   "source": [
    "import pymongo\n",
    "from bson.objectid import ObjectId\n",
    "\n",
    "client = pymongo.MongoClient(\"mongodb://10.0.67.162:27017/\")\n",
    "\n",
    "mydb = client['dev1']\n",
    "mycollec = mydb['product_list']\n",
    "pro_detail_collect = mydb['product_detail']\n",
    "\n",
    "product_1 = {'_id':'1',\n",
    "             'Name':'Product_1',\n",
    "             'Option_1':'notcheck'}\n",
    "\n",
    "product_detail_1 = {'Option_name':'Name1',\n",
    "                    'Option':['1','2','3'],\n",
    "                    'type':'A'}\n",
    "\n",
    "\"\"\"{'_id': ObjectId('660688afd81ce07133e9f4f5'), 'Option_name': 'Name1', 'Option': ['1', '2', '3'], 'type': 'A'}\n",
    "{'_id': ObjectId('660688b5d81ce07133e9f4f7'), 'Option_name': 'Name2', 'Option': ['1', '2', '3'], 'type': 'A'}\n",
    "{'_id': ObjectId('660688b9d81ce07133e9f4f9'), 'Option_name': 'Name3', 'Option': ['1', '2', '3'], 'type': 'A'}\"\"\"\n",
    "\n",
    "\n",
    "def querry_list(id,obID):\n",
    "    myquerry = {'Name':'Product_new_{}'.format(id)}\n",
    "    newvalue = {\"$set\":{'Option_1':ObjectID()}}\n",
    "\n",
    "\n",
    "def product_list_add(id):\n",
    "    product_c = {'Name':'Product_new_{}'.format(id),\n",
    "             'Option_1':'notcheck'}\n",
    "    return product_c\n",
    "\n",
    "\n",
    "def product_detail_add(id):\n",
    "    product_detail = {'Option_name':'Name{}'.format(id),\n",
    "                    'Option':['1','2','3'],\n",
    "                    'type':'A'}\n",
    "    return product_detail\n",
    "\n",
    "\"\"\"\n",
    "for i in range(0,7):\n",
    "    try:\n",
    "        mycollec.insert_one(product_list_add(i))\n",
    "    except:\n",
    "        pass\"\"\"\n",
    "\n",
    "\n",
    "\n",
    "\"\"\"x = pro_detail_collect.insert_one(product_detail_add(3))\"\"\"\n",
    "\n",
    "\n",
    "#myquerry = {'Name':'Product_new_4'}\n",
    "#newvalues = {\"$push\":{'Option_1':ObjectId('660688afd81ce07133e9f4f7')}}\n",
    "#mycollec.update_one(myquerry,newvalues)\n",
    "print(mydb.list_collection_names())\n",
    "\n",
    "\n",
    "\"\"\"\n",
    "for x in pro_detail_collect.find():\n",
    "    print(x)\"\"\"\n",
    "\n",
    "print(next(mycollec.find({'_id': ObjectId('6606870bd81ce07133e9f4eb')})))\n",
    "\n",
    "for x in mycollec.find():\n",
    "    print(x)\n",
    "\"\"\"    a = x['Option_1'][0]\n",
    "    for x1 in pro_detail_collect.find({'_id':ObjectId('{}'.format(a))}):\n",
    "        print(x1)\"\"\"\n"
   ]
  },
  {
   "cell_type": "code",
   "execution_count": 16,
   "metadata": {},
   "outputs": [
    {
     "name": "stdout",
     "output_type": "stream",
     "text": [
      "{'_id': ObjectId('660775b9f50e6197997125fe'), 'Name': 'User_1', 'Info': [{'phone': '1', 'user_id': '1'}]}\n",
      "{'_id': ObjectId('6607762cf50e619799712600'), 'Name': 'User_2', 'Info': [{'phone': '2', 'user_id': '2'}], 'Account_balance': '0'}\n",
      "{'_id': ObjectId('66077634f50e619799712602'), 'Name': 'User_3', 'Info': [{'phone': '3', 'user_id': '3'}], 'Account_balance': '0'}\n",
      "{'_id': ObjectId('6607763af50e619799712604'), 'Name': 'User_4', 'Info': [{'phone': '4', 'user_id': '4'}], 'Account_balance': '0'}\n"
     ]
    }
   ],
   "source": [
    "import pymongo\n",
    "from bson.objectid import ObjectId\n",
    "\n",
    "client = pymongo.MongoClient(\"mongodb://10.0.67.162:27017/\")\n",
    "\n",
    "mydb = client['dev1']\n",
    "mycollec = mydb['product_list']\n",
    "pro_detail_collect = mydb['product_detail']\n",
    "\n",
    "userdb = client['user']\n",
    "list_user = userdb['User_detail']\n",
    "\n",
    "event_collect = mydb['event']\n",
    "\n",
    "\n",
    "def user_add(id):\n",
    "    usera = {'Name':'User_{}'.format(id),\n",
    "             'Info':[{\"phone\":'{}'.format(id),\"user_id\":'{}'.format(id)}],\n",
    "             'Account_balance':'0'}\n",
    "    return usera\n",
    "\n",
    "#list_user.insert_one(user_add(4))\n",
    "\n",
    "for x in list_user.find():\n",
    "    print(x)\n"
   ]
  },
  {
   "cell_type": "code",
   "execution_count": 74,
   "metadata": {},
   "outputs": [
    {
     "name": "stdout",
     "output_type": "stream",
     "text": [
      "4\n"
     ]
    }
   ],
   "source": [
    "import random\n",
    "\n",
    "print(random.randrange(1,5)) "
   ]
  }
 ],
 "metadata": {
  "kernelspec": {
   "display_name": ".venv",
   "language": "python",
   "name": "python3"
  },
  "language_info": {
   "codemirror_mode": {
    "name": "ipython",
    "version": 3
   },
   "file_extension": ".py",
   "mimetype": "text/x-python",
   "name": "python",
   "nbconvert_exporter": "python",
   "pygments_lexer": "ipython3",
   "version": "3.10.12"
  }
 },
 "nbformat": 4,
 "nbformat_minor": 2
}
