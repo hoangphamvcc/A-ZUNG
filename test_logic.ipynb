{
 "cells": [
  {
   "cell_type": "code",
   "execution_count": 8,
   "metadata": {},
   "outputs": [
    {
     "name": "stdout",
     "output_type": "stream",
     "text": [
      "1711515948\n",
      "1711516073\n",
      "1711516255\n",
      "1711516299\n",
      "1711516971\n",
      "1711518192\n",
      "1711518727\n",
      "1711519196\n",
      "1711519200\n",
      "1711519200\n",
      "1711519200\n",
      "1711519200\n",
      "1711519200\n",
      "1711519797\n",
      "1711519970\n",
      "1711520498\n",
      "1711521000\n",
      "1711521196\n",
      "1711521401\n",
      "1711521630\n",
      "1711522426\n",
      "1711522473\n",
      "1711522526\n",
      "1711522663\n",
      "1711522800\n",
      "1711522800\n",
      "1711522800\n",
      "1711522800\n",
      "1711522800\n",
      "1711522845\n",
      "1711523523\n",
      "1711523554\n",
      "1711523604\n",
      "1711523724\n",
      "1711523822\n",
      "1711524546\n",
      "1711524600\n",
      "1711524600\n",
      "1711525213\n",
      "1711525445\n",
      "1711525500\n",
      "1711525510\n",
      "1711526400\n",
      "1711526400\n",
      "1711526400\n",
      "1711526400\n",
      "1711526400\n",
      "1711526400\n",
      "1711526480\n",
      "1711526652\n",
      "1711527071\n"
     ]
    }
   ],
   "source": [
    "from bs4 import BeautifulSoup\n",
    "import requests\n",
    "import datetime\n",
    "from datetime import datetime\n",
    "\n",
    "\n",
    "url = requests.get('https://vnexpress.net/rss/tin-moi-nhat.rss')\n",
    "\n",
    "soup = BeautifulSoup(url.content,'xml')\n",
    "items = soup.find_all('item')\n",
    "items.reverse()\n",
    "\n",
    "for i, item in enumerate(items):\n",
    "    time4 = item.pubDate.text\n",
    "    time1 = time4.split(\" \")\n",
    "    time2 = \" \".join([\"-\".join([time1[3], '03', time1[1]]), time1[4]])\n",
    "    date_format = '%Y-%m-%d %H:%M:%S'\n",
    "    time3 = datetime.strptime(time2, date_format)\n",
    "    timestamp = int(round(time3.timestamp()))\n",
    "    print(timestamp)\n",
    "    #print(item.enclosure['url'])\n",
    "\n",
    "\n"
   ]
  },
  {
   "cell_type": "code",
   "execution_count": null,
   "metadata": {},
   "outputs": [],
   "source": [
    "from datetime import datetime\n",
    "\n",
    "curr_dt = datetime.now()\n",
    "timestamp = int(round(curr_dt.timestamp()))\n",
    "print(timestamp)"
   ]
  },
  {
   "cell_type": "code",
   "execution_count": 4,
   "metadata": {},
   "outputs": [
    {
     "name": "stdout",
     "output_type": "stream",
     "text": [
      "{'name': 'Melanie Greer', 'add': '1982'}\n",
      "{'name': 'Kelly Taylor', 'add': '2019'}\n"
     ]
    },
    {
     "ename": "KeyboardInterrupt",
     "evalue": "",
     "output_type": "error",
     "traceback": [
      "\u001b[0;31m---------------------------------------------------------------------------\u001b[0m",
      "\u001b[0;31mKeyboardInterrupt\u001b[0m                         Traceback (most recent call last)",
      "Cell \u001b[0;32mIn[4], line 32\u001b[0m\n\u001b[1;32m     28\u001b[0m \u001b[38;5;28mprint\u001b[39m(user)\n\u001b[1;32m     29\u001b[0m producer\u001b[38;5;241m.\u001b[39msend(\n\u001b[1;32m     30\u001b[0m     \u001b[38;5;124m'\u001b[39m\u001b[38;5;124mtest123\u001b[39m\u001b[38;5;124m'\u001b[39m,user\n\u001b[1;32m     31\u001b[0m )\n\u001b[0;32m---> 32\u001b[0m \u001b[43mtime\u001b[49m\u001b[38;5;241;43m.\u001b[39;49m\u001b[43msleep\u001b[49m\u001b[43m(\u001b[49m\u001b[38;5;241;43m3\u001b[39;49m\u001b[43m)\u001b[49m\n",
      "\u001b[0;31mKeyboardInterrupt\u001b[0m: "
     ]
    }
   ],
   "source": [
    "from time import time\n",
    "from kafka import KafkaProducer\n",
    "from faker import Faker\n",
    "import json, time\n",
    "\n",
    "faker = Faker()\n",
    "\n",
    "def get_register():\n",
    "    return {\n",
    "        'name': faker.name(),\n",
    "        'add' : faker.year()\n",
    "    }\n",
    "\n",
    "def get_partitioner(key_bytes, all_partitions, available_partitions):\n",
    "    return 0\n",
    "\n",
    "def json_serializer(data):\n",
    "    return json.dumps(data).encode('utf-8')\n",
    "\n",
    "producer = KafkaProducer(\n",
    "    bootstrap_servers = ['10.5.69.117:9092'], # server name\n",
    "    value_serializer = json_serializer, # function callable\n",
    "    # partitioner = get_partitioner, # function return 0 >>> only partition_0 can received messages\n",
    "    )\n",
    "\n",
    "while 1==1:\n",
    "    user = get_register()\n",
    "    print(user)\n",
    "    producer.send(\n",
    "        'test123',user\n",
    "    )\n",
    "    time.sleep(3)\n"
   ]
  },
  {
   "cell_type": "code",
   "execution_count": 4,
   "metadata": {},
   "outputs": [
    {
     "data": {
      "text/plain": [
       "'GXO t\\\\u0103ng s\\\\u1eed d\\\\u1ee5ng c\\\\u00f4ng ngh\\\\u1ec7 th\\\\u1ecb gi\\\\u00e1c'"
      ]
     },
     "execution_count": 4,
     "metadata": {},
     "output_type": "execute_result"
    }
   ],
   "source": [
    "a = b'GXO t\\\\u0103ng s\\\\u1eed d\\\\u1ee5ng c\\\\u00f4ng ngh\\\\u1ec7 th\\\\u1ecb gi\\\\u00e1c'\n",
    "a.decode('latin-1')"
   ]
  },
  {
   "cell_type": "code",
   "execution_count": 25,
   "metadata": {},
   "outputs": [
    {
     "name": "stdout",
     "output_type": "stream",
     "text": [
      "{\"Title\": \"Anh em ru\\u1ed9t c\\u00f9ng l\\u00e0 th\\u1ee7 khoa t\\u1ed1t nghi\\u1ec7p \\u0111\\u1ea1i h\\u1ecdc Nh\\u1eadt\"}\n",
      "Anh em ruột cùng là thủ khoa tốt nghiệp đại học Nhật\n"
     ]
    }
   ],
   "source": [
    "import json\n",
    "def json_serializer(data):\n",
    "    return json.dumps(data).encode('utf-8')\n",
    "\n",
    "\n",
    "\n",
    "a = {\"Title\":\"Anh em ruột cùng là thủ khoa tốt nghiệp đại học Nhật\"}\n",
    "\n",
    "#print(a.encode('utf-8'))\n",
    "b = json.dumps(a)\n",
    "print(b)\n",
    "c = json.loads(b)\n",
    "print(c['Title'])"
   ]
  },
  {
   "cell_type": "code",
   "execution_count": 17,
   "metadata": {},
   "outputs": [
    {
     "data": {
      "text/plain": [
       "{'ok': False,\n",
       " 'error_code': 400,\n",
       " 'description': 'Bad Request: wrong file identifier/HTTP URL specified'}"
      ]
     },
     "execution_count": 17,
     "metadata": {},
     "output_type": "execute_result"
    }
   ],
   "source": [
    "import requests\n",
    "\n",
    "class Bot_send(object):\n",
    "    def __init__(self, message):\n",
    "        self.message = message\n",
    "        self.image = self.message['Image']\n",
    "        self.TOKEN = '7093067808:AAEfPz21IUweO0uH2Afu1y_V5Mrc_8cdohs'\n",
    "        self.CHAT_ID1 = '-1002004471961'\n",
    "\n",
    "    def send(self):\n",
    "        url = f'https://api.telegram.org/bot{self.TOKEN}/sendPhoto'\n",
    "        #url = f'https://api.telegram.org/bot{self.TOKEN}/sendPhoto?chat_id={self.CHAT_ID1}&parse_mode=HTML&caption={self.message}&photo={self.image}'\n",
    "        msg1 ={\n",
    "            \"chat_id\" : \n",
    "        }\n",
    "        r = requests.get(url,data=msg1)\n",
    "        return r.json()\n",
    "    \n",
    "\n"
   ]
  },
  {
   "cell_type": "code",
   "execution_count": 22,
   "metadata": {},
   "outputs": [
    {
     "name": "stdout",
     "output_type": "stream",
     "text": [
      "{\"ok\":false,\"error_code\":400,\"description\":\"Bad Request: wrong remote file identifier specified: Wrong character in the string\"}\n"
     ]
    }
   ],
   "source": [
    "import requests\n",
    "import time\n",
    "\n",
    "base_url = \"https://api.telegram.org/bot7093067808:AAEfPz21IUweO0uH2Afu1y_V5Mrc_8cdohs/sendPhoto\"\n",
    "\n",
    "parameters = {\n",
    "    \"chat_id\" : \"-1002004471961\",\n",
    "    \"photo\" : open(\"/home/user/test/logo.png\",'rb'),\n",
    "    \"caption\" : \"here is travel photo for you\"\n",
    "}\n",
    "\n",
    "resp = requests.get(base_url, data = parameters)\n",
    "print(resp.text)"
   ]
  },
  {
   "cell_type": "code",
   "execution_count": 19,
   "metadata": {},
   "outputs": [],
   "source": [
    "def send_photo(chat_id, file_opened):\n",
    "    method = \"sendPhoto\"\n",
    "    params = {'chat_id': chat_id}\n",
    "    files = {'photo': file_opened}\n",
    "    resp = requests.post(api_url + method, params, files=files)\n",
    "    return resp\n",
    "\n",
    "send_photo(chat_id, open(file_path, 'rb'))"
   ]
  },
  {
   "cell_type": "code",
   "execution_count": 19,
   "metadata": {},
   "outputs": [
    {
     "name": "stdout",
     "output_type": "stream",
     "text": [
      "['product_list', 'test1', 'product_detail']\n",
      "{'_id': ObjectId('6606870bd81ce07133e9f4eb'), 'Name': 'Product_new_0', 'Option_1': [ObjectId('660688afd81ce07133e9f4f5'), ObjectId('660688afd81ce07133e9f4f7')]}\n",
      "{'_id': '0', 'Name': 'Product_0', 'Option_1': 'notcheck'}\n",
      "{'_id': '1', 'Name': 'Product_1', 'Option_1': 'notcheck'}\n",
      "{'_id': '2', 'Name': 'Product_2', 'Option_1': 'notcheck'}\n",
      "{'_id': '3', 'Name': 'Product_3', 'Option_1': 'notcheck'}\n",
      "{'_id': '4', 'Name': 'Product_4', 'Option_1': 'notcheck'}\n",
      "{'_id': '5', 'Name': 'Product_5', 'Option_1': 'notcheck'}\n",
      "{'_id': '6', 'Name': 'Product_6', 'Option_1': 'notcheck'}\n",
      "{'_id': ObjectId('6606870bd81ce07133e9f4eb'), 'Name': 'Product_new_0', 'Option_1': [ObjectId('660688afd81ce07133e9f4f5'), ObjectId('660688afd81ce07133e9f4f7')]}\n",
      "{'_id': ObjectId('6606870bd81ce07133e9f4ec'), 'Name': 'Product_new_1', 'Option_1': [ObjectId('660688afd81ce07133e9f4f5')]}\n",
      "{'_id': ObjectId('6606870bd81ce07133e9f4ed'), 'Name': 'Product_new_2', 'Option_1': [ObjectId('660688afd81ce07133e9f4f5'), ObjectId('660688afd81ce07133e9f4f9')]}\n",
      "{'_id': ObjectId('6606870bd81ce07133e9f4ee'), 'Name': 'Product_new_3', 'Option_1': [ObjectId('660688afd81ce07133e9f4f5')]}\n",
      "{'_id': ObjectId('6606870bd81ce07133e9f4ef'), 'Name': 'Product_new_4', 'Option_1': [ObjectId('660688afd81ce07133e9f4f5'), ObjectId('660688afd81ce07133e9f4f7'), ObjectId('660688afd81ce07133e9f4f7'), ObjectId('660688afd81ce07133e9f4f7'), ObjectId('660688afd81ce07133e9f4f7'), ObjectId('660688afd81ce07133e9f4f7'), ObjectId('660688afd81ce07133e9f4f7'), ObjectId('660688afd81ce07133e9f4f7'), ObjectId('660688afd81ce07133e9f4f7'), ObjectId('660688afd81ce07133e9f4f7'), ObjectId('660688afd81ce07133e9f4f7')]}\n",
      "{'_id': ObjectId('6606870bd81ce07133e9f4f0'), 'Name': 'Product_new_5', 'Option_1': 'notcheck'}\n",
      "{'_id': ObjectId('6606870bd81ce07133e9f4f1'), 'Name': 'Product_new_6', 'Option_1': 'notcheck'}\n",
      "{'_id': ObjectId('66069815d81ce07133e9f52a'), 'Name': 'Product_new_0', 'Option_1': 'notcheck'}\n",
      "{'_id': ObjectId('66069815d81ce07133e9f52b'), 'Name': 'Product_new_1', 'Option_1': 'notcheck'}\n",
      "{'_id': ObjectId('66069815d81ce07133e9f52c'), 'Name': 'Product_new_2', 'Option_1': 'notcheck'}\n",
      "{'_id': ObjectId('66069815d81ce07133e9f52d'), 'Name': 'Product_new_3', 'Option_1': 'notcheck'}\n",
      "{'_id': ObjectId('66069815d81ce07133e9f52e'), 'Name': 'Product_new_4', 'Option_1': 'notcheck'}\n",
      "{'_id': ObjectId('66069815d81ce07133e9f52f'), 'Name': 'Product_new_5', 'Option_1': 'notcheck'}\n",
      "{'_id': ObjectId('66069815d81ce07133e9f530'), 'Name': 'Product_new_6', 'Option_1': 'notcheck'}\n"
     ]
    },
    {
     "data": {
      "text/plain": [
       "\"    a = x['Option_1'][0]\\n    for x1 in pro_detail_collect.find({'_id':ObjectId('{}'.format(a))}):\\n        print(x1)\""
      ]
     },
     "execution_count": 19,
     "metadata": {},
     "output_type": "execute_result"
    }
   ],
   "source": [
    "import pymongo\n",
    "from bson.objectid import ObjectId\n",
    "\n",
    "client = pymongo.MongoClient(\"mongodb://10.0.67.162:27017/\")\n",
    "\n",
    "mydb = client['dev1']\n",
    "mycollec = mydb['product_list']\n",
    "pro_detail_collect = mydb['product_detail']\n",
    "\n",
    "product_1 = {'_id':'1',\n",
    "             'Name':'Product_1',\n",
    "             'Option_1':'notcheck'}\n",
    "\n",
    "product_detail_1 = {'Option_name':'Name1',\n",
    "                    'Option':['1','2','3'],\n",
    "                    'type':'A'}\n",
    "\n",
    "\"\"\"{'_id': ObjectId('660688afd81ce07133e9f4f5'), 'Option_name': 'Name1', 'Option': ['1', '2', '3'], 'type': 'A'}\n",
    "{'_id': ObjectId('660688b5d81ce07133e9f4f7'), 'Option_name': 'Name2', 'Option': ['1', '2', '3'], 'type': 'A'}\n",
    "{'_id': ObjectId('660688b9d81ce07133e9f4f9'), 'Option_name': 'Name3', 'Option': ['1', '2', '3'], 'type': 'A'}\"\"\"\n",
    "\n",
    "\n",
    "def querry_list(id,obID):\n",
    "    myquerry = {'Name':'Product_new_{}'.format(id)}\n",
    "    newvalue = {\"$set\":{'Option_1':ObjectID()}}\n",
    "\n",
    "\n",
    "def product_list_add(id):\n",
    "    product_c = {'Name':'Product_new_{}'.format(id),\n",
    "             'Option_1':'notcheck'}\n",
    "    return product_c\n",
    "\n",
    "\n",
    "def product_detail_add(id):\n",
    "    product_detail = {'Option_name':'Name{}'.format(id),\n",
    "                    'Option':['1','2','3'],\n",
    "                    'type':'A'}\n",
    "    return product_detail\n",
    "\n",
    "\"\"\"\n",
    "for i in range(0,7):\n",
    "    try:\n",
    "        mycollec.insert_one(product_list_add(i))\n",
    "    except:\n",
    "        pass\"\"\"\n",
    "\n",
    "\n",
    "\n",
    "\"\"\"x = pro_detail_collect.insert_one(product_detail_add(3))\"\"\"\n",
    "\n",
    "\n",
    "#myquerry = {'Name':'Product_new_4'}\n",
    "#newvalues = {\"$push\":{'Option_1':ObjectId('660688afd81ce07133e9f4f7')}}\n",
    "#mycollec.update_one(myquerry,newvalues)\n",
    "print(mydb.list_collection_names())\n",
    "\n",
    "\n",
    "\"\"\"\n",
    "for x in pro_detail_collect.find():\n",
    "    print(x)\"\"\"\n",
    "\n",
    "print(next(mycollec.find({'_id': ObjectId('6606870bd81ce07133e9f4eb')})))\n",
    "\n",
    "for x in mycollec.find():\n",
    "    print(x)\n",
    "\"\"\"    a = x['Option_1'][0]\n",
    "    for x1 in pro_detail_collect.find({'_id':ObjectId('{}'.format(a))}):\n",
    "        print(x1)\"\"\"\n"
   ]
  },
  {
   "cell_type": "code",
   "execution_count": 16,
   "metadata": {},
   "outputs": [
    {
     "name": "stdout",
     "output_type": "stream",
     "text": [
      "{'_id': ObjectId('660775b9f50e6197997125fe'), 'Name': 'User_1', 'Info': [{'phone': '1', 'user_id': '1'}]}\n",
      "{'_id': ObjectId('6607762cf50e619799712600'), 'Name': 'User_2', 'Info': [{'phone': '2', 'user_id': '2'}], 'Account_balance': '0'}\n",
      "{'_id': ObjectId('66077634f50e619799712602'), 'Name': 'User_3', 'Info': [{'phone': '3', 'user_id': '3'}], 'Account_balance': '0'}\n",
      "{'_id': ObjectId('6607763af50e619799712604'), 'Name': 'User_4', 'Info': [{'phone': '4', 'user_id': '4'}], 'Account_balance': '0'}\n"
     ]
    }
   ],
   "source": [
    "import pymongo\n",
    "from bson.objectid import ObjectId\n",
    "\n",
    "client = pymongo.MongoClient(\"mongodb://10.0.67.162:27017/\")\n",
    "\n",
    "mydb = client['dev1']\n",
    "mycollec = mydb['product_list']\n",
    "pro_detail_collect = mydb['product_detail']\n",
    "\n",
    "userdb = client['user']\n",
    "list_user = userdb['User_detail']\n",
    "\n",
    "event_collect = mydb['event']\n",
    "\n",
    "\n",
    "def user_add(id):\n",
    "    usera = {'Name':'User_{}'.format(id),\n",
    "             'Info':[{\"phone\":'{}'.format(id),\"user_id\":'{}'.format(id)}],\n",
    "             'Account_balance':'0'}\n",
    "    return usera\n",
    "\n",
    "#list_user.insert_one(user_add(4))\n",
    "\n",
    "for x in list_user.find():\n",
    "    print(x)\n"
   ]
  },
  {
   "cell_type": "code",
   "execution_count": 3,
   "metadata": {},
   "outputs": [
    {
     "ename": "KeyboardInterrupt",
     "evalue": "",
     "output_type": "error",
     "traceback": [
      "\u001b[0;31m---------------------------------------------------------------------------\u001b[0m",
      "\u001b[0;31mKeyboardInterrupt\u001b[0m                         Traceback (most recent call last)",
      "Cell \u001b[0;32mIn[3], line 12\u001b[0m\n\u001b[1;32m      7\u001b[0m event_collect \u001b[38;5;241m=\u001b[39m mydb[\u001b[38;5;124m'\u001b[39m\u001b[38;5;124mNews\u001b[39m\u001b[38;5;124m'\u001b[39m]\n\u001b[1;32m      8\u001b[0m status_doc \u001b[38;5;241m=\u001b[39m {\u001b[38;5;124m'\u001b[39m\u001b[38;5;124m_id\u001b[39m\u001b[38;5;124m'\u001b[39m:\u001b[38;5;124m'\u001b[39m\u001b[38;5;124m0\u001b[39m\u001b[38;5;124m'\u001b[39m,\n\u001b[1;32m      9\u001b[0m               \u001b[38;5;124m'\u001b[39m\u001b[38;5;124mcurr_id\u001b[39m\u001b[38;5;124m'\u001b[39m:\u001b[38;5;124m'\u001b[39m\u001b[38;5;124m0\u001b[39m\u001b[38;5;124m'\u001b[39m,\n\u001b[1;32m     10\u001b[0m               \u001b[38;5;124m'\u001b[39m\u001b[38;5;124mcurr_id_rss\u001b[39m\u001b[38;5;124m'\u001b[39m:\u001b[38;5;124m'\u001b[39m\u001b[38;5;124m0\u001b[39m\u001b[38;5;124m'\u001b[39m,\n\u001b[1;32m     11\u001b[0m               \u001b[38;5;124m'\u001b[39m\u001b[38;5;124mcurr_timestamp\u001b[39m\u001b[38;5;124m'\u001b[39m:\u001b[38;5;124m'\u001b[39m\u001b[38;5;124m0\u001b[39m\u001b[38;5;124m'\u001b[39m}\n\u001b[0;32m---> 12\u001b[0m \u001b[43mevent_collect\u001b[49m\u001b[38;5;241;43m.\u001b[39;49m\u001b[43minsert_one\u001b[49m\u001b[43m(\u001b[49m\u001b[43mstatus_doc\u001b[49m\u001b[43m)\u001b[49m\n\u001b[1;32m     14\u001b[0m \u001b[38;5;124;03m\"\"\"for x in event_collect.find():\u001b[39;00m\n\u001b[1;32m     15\u001b[0m \u001b[38;5;124;03m    print(x)\"\"\"\u001b[39;00m\n",
      "File \u001b[0;32m~/A-ZUNG/.venv/lib/python3.10/site-packages/pymongo/collection.py:669\u001b[0m, in \u001b[0;36mCollection.insert_one\u001b[0;34m(self, document, bypass_document_validation, session, comment)\u001b[0m\n\u001b[1;32m    665\u001b[0m     document[\u001b[38;5;124m\"\u001b[39m\u001b[38;5;124m_id\u001b[39m\u001b[38;5;124m\"\u001b[39m] \u001b[38;5;241m=\u001b[39m ObjectId()  \u001b[38;5;66;03m# type: ignore[index]\u001b[39;00m\n\u001b[1;32m    667\u001b[0m write_concern \u001b[38;5;241m=\u001b[39m \u001b[38;5;28mself\u001b[39m\u001b[38;5;241m.\u001b[39m_write_concern_for(session)\n\u001b[1;32m    668\u001b[0m \u001b[38;5;28;01mreturn\u001b[39;00m InsertOneResult(\n\u001b[0;32m--> 669\u001b[0m     \u001b[38;5;28;43mself\u001b[39;49m\u001b[38;5;241;43m.\u001b[39;49m\u001b[43m_insert_one\u001b[49m\u001b[43m(\u001b[49m\n\u001b[1;32m    670\u001b[0m \u001b[43m        \u001b[49m\u001b[43mdocument\u001b[49m\u001b[43m,\u001b[49m\n\u001b[1;32m    671\u001b[0m \u001b[43m        \u001b[49m\u001b[43mordered\u001b[49m\u001b[38;5;241;43m=\u001b[39;49m\u001b[38;5;28;43;01mTrue\u001b[39;49;00m\u001b[43m,\u001b[49m\n\u001b[1;32m    672\u001b[0m \u001b[43m        \u001b[49m\u001b[43mwrite_concern\u001b[49m\u001b[38;5;241;43m=\u001b[39;49m\u001b[43mwrite_concern\u001b[49m\u001b[43m,\u001b[49m\n\u001b[1;32m    673\u001b[0m \u001b[43m        \u001b[49m\u001b[43mop_id\u001b[49m\u001b[38;5;241;43m=\u001b[39;49m\u001b[38;5;28;43;01mNone\u001b[39;49;00m\u001b[43m,\u001b[49m\n\u001b[1;32m    674\u001b[0m \u001b[43m        \u001b[49m\u001b[43mbypass_doc_val\u001b[49m\u001b[38;5;241;43m=\u001b[39;49m\u001b[43mbypass_document_validation\u001b[49m\u001b[43m,\u001b[49m\n\u001b[1;32m    675\u001b[0m \u001b[43m        \u001b[49m\u001b[43msession\u001b[49m\u001b[38;5;241;43m=\u001b[39;49m\u001b[43msession\u001b[49m\u001b[43m,\u001b[49m\n\u001b[1;32m    676\u001b[0m \u001b[43m        \u001b[49m\u001b[43mcomment\u001b[49m\u001b[38;5;241;43m=\u001b[39;49m\u001b[43mcomment\u001b[49m\u001b[43m,\u001b[49m\n\u001b[1;32m    677\u001b[0m \u001b[43m    \u001b[49m\u001b[43m)\u001b[49m,\n\u001b[1;32m    678\u001b[0m     write_concern\u001b[38;5;241m.\u001b[39macknowledged,\n\u001b[1;32m    679\u001b[0m )\n",
      "File \u001b[0;32m~/A-ZUNG/.venv/lib/python3.10/site-packages/pymongo/collection.py:609\u001b[0m, in \u001b[0;36mCollection._insert_one\u001b[0;34m(self, doc, ordered, write_concern, op_id, bypass_doc_val, session, comment)\u001b[0m\n\u001b[1;32m    597\u001b[0m     result \u001b[38;5;241m=\u001b[39m conn\u001b[38;5;241m.\u001b[39mcommand(\n\u001b[1;32m    598\u001b[0m         \u001b[38;5;28mself\u001b[39m\u001b[38;5;241m.\u001b[39m__database\u001b[38;5;241m.\u001b[39mname,\n\u001b[1;32m    599\u001b[0m         command,\n\u001b[0;32m   (...)\u001b[0m\n\u001b[1;32m    604\u001b[0m         retryable_write\u001b[38;5;241m=\u001b[39mretryable_write,\n\u001b[1;32m    605\u001b[0m     )\n\u001b[1;32m    607\u001b[0m     _check_write_command_response(result)\n\u001b[0;32m--> 609\u001b[0m \u001b[38;5;28;43mself\u001b[39;49m\u001b[38;5;241;43m.\u001b[39;49m\u001b[43m__database\u001b[49m\u001b[38;5;241;43m.\u001b[39;49m\u001b[43mclient\u001b[49m\u001b[38;5;241;43m.\u001b[39;49m\u001b[43m_retryable_write\u001b[49m\u001b[43m(\u001b[49m\u001b[43macknowledged\u001b[49m\u001b[43m,\u001b[49m\u001b[43m \u001b[49m\u001b[43m_insert_command\u001b[49m\u001b[43m,\u001b[49m\u001b[43m \u001b[49m\u001b[43msession\u001b[49m\u001b[43m)\u001b[49m\n\u001b[1;32m    611\u001b[0m \u001b[38;5;28;01mif\u001b[39;00m \u001b[38;5;129;01mnot\u001b[39;00m \u001b[38;5;28misinstance\u001b[39m(doc, RawBSONDocument):\n\u001b[1;32m    612\u001b[0m     \u001b[38;5;28;01mreturn\u001b[39;00m doc\u001b[38;5;241m.\u001b[39mget(\u001b[38;5;124m\"\u001b[39m\u001b[38;5;124m_id\u001b[39m\u001b[38;5;124m\"\u001b[39m)\n",
      "File \u001b[0;32m~/A-ZUNG/.venv/lib/python3.10/site-packages/pymongo/mongo_client.py:1522\u001b[0m, in \u001b[0;36mMongoClient._retryable_write\u001b[0;34m(self, retryable, func, session, bulk)\u001b[0m\n\u001b[1;32m   1502\u001b[0m \u001b[38;5;28;01mdef\u001b[39;00m \u001b[38;5;21m_retryable_write\u001b[39m(\n\u001b[1;32m   1503\u001b[0m     \u001b[38;5;28mself\u001b[39m,\n\u001b[1;32m   1504\u001b[0m     retryable: \u001b[38;5;28mbool\u001b[39m,\n\u001b[0;32m   (...)\u001b[0m\n\u001b[1;32m   1507\u001b[0m     bulk: Optional[_Bulk] \u001b[38;5;241m=\u001b[39m \u001b[38;5;28;01mNone\u001b[39;00m,\n\u001b[1;32m   1508\u001b[0m ) \u001b[38;5;241m-\u001b[39m\u001b[38;5;241m>\u001b[39m T:\n\u001b[1;32m   1509\u001b[0m \u001b[38;5;250m    \u001b[39m\u001b[38;5;124;03m\"\"\"Execute an operation with consecutive retries if possible\u001b[39;00m\n\u001b[1;32m   1510\u001b[0m \n\u001b[1;32m   1511\u001b[0m \u001b[38;5;124;03m    Returns func()'s return value on success. On error retries the same\u001b[39;00m\n\u001b[0;32m   (...)\u001b[0m\n\u001b[1;32m   1520\u001b[0m \u001b[38;5;124;03m      - `bulk`: bulk abstraction to execute operations in bulk, defaults to None\u001b[39;00m\n\u001b[1;32m   1521\u001b[0m \u001b[38;5;124;03m    \"\"\"\u001b[39;00m\n\u001b[0;32m-> 1522\u001b[0m     \u001b[38;5;28;01mwith\u001b[39;00m \u001b[38;5;28mself\u001b[39m\u001b[38;5;241m.\u001b[39m_tmp_session(session) \u001b[38;5;28;01mas\u001b[39;00m s:\n\u001b[1;32m   1523\u001b[0m         \u001b[38;5;28;01mreturn\u001b[39;00m \u001b[38;5;28mself\u001b[39m\u001b[38;5;241m.\u001b[39m_retry_with_session(retryable, func, s, bulk)\n",
      "File \u001b[0;32m/usr/lib/python3.10/contextlib.py:135\u001b[0m, in \u001b[0;36m_GeneratorContextManager.__enter__\u001b[0;34m(self)\u001b[0m\n\u001b[1;32m    133\u001b[0m \u001b[38;5;28;01mdel\u001b[39;00m \u001b[38;5;28mself\u001b[39m\u001b[38;5;241m.\u001b[39margs, \u001b[38;5;28mself\u001b[39m\u001b[38;5;241m.\u001b[39mkwds, \u001b[38;5;28mself\u001b[39m\u001b[38;5;241m.\u001b[39mfunc\n\u001b[1;32m    134\u001b[0m \u001b[38;5;28;01mtry\u001b[39;00m:\n\u001b[0;32m--> 135\u001b[0m     \u001b[38;5;28;01mreturn\u001b[39;00m \u001b[38;5;28;43mnext\u001b[39;49m\u001b[43m(\u001b[49m\u001b[38;5;28;43mself\u001b[39;49m\u001b[38;5;241;43m.\u001b[39;49m\u001b[43mgen\u001b[49m\u001b[43m)\u001b[49m\n\u001b[1;32m    136\u001b[0m \u001b[38;5;28;01mexcept\u001b[39;00m \u001b[38;5;167;01mStopIteration\u001b[39;00m:\n\u001b[1;32m    137\u001b[0m     \u001b[38;5;28;01mraise\u001b[39;00m \u001b[38;5;167;01mRuntimeError\u001b[39;00m(\u001b[38;5;124m\"\u001b[39m\u001b[38;5;124mgenerator didn\u001b[39m\u001b[38;5;124m'\u001b[39m\u001b[38;5;124mt yield\u001b[39m\u001b[38;5;124m\"\u001b[39m) \u001b[38;5;28;01mfrom\u001b[39;00m \u001b[38;5;28;01mNone\u001b[39;00m\n",
      "File \u001b[0;32m~/A-ZUNG/.venv/lib/python3.10/site-packages/pymongo/mongo_client.py:1840\u001b[0m, in \u001b[0;36mMongoClient._tmp_session\u001b[0;34m(self, session, close)\u001b[0m\n\u001b[1;32m   1837\u001b[0m     \u001b[38;5;28;01myield\u001b[39;00m session\n\u001b[1;32m   1838\u001b[0m     \u001b[38;5;28;01mreturn\u001b[39;00m\n\u001b[0;32m-> 1840\u001b[0m s \u001b[38;5;241m=\u001b[39m \u001b[38;5;28;43mself\u001b[39;49m\u001b[38;5;241;43m.\u001b[39;49m\u001b[43m_ensure_session\u001b[49m\u001b[43m(\u001b[49m\u001b[43msession\u001b[49m\u001b[43m)\u001b[49m\n\u001b[1;32m   1841\u001b[0m \u001b[38;5;28;01mif\u001b[39;00m s:\n\u001b[1;32m   1842\u001b[0m     \u001b[38;5;28;01mtry\u001b[39;00m:\n",
      "File \u001b[0;32m~/A-ZUNG/.venv/lib/python3.10/site-packages/pymongo/mongo_client.py:1823\u001b[0m, in \u001b[0;36mMongoClient._ensure_session\u001b[0;34m(self, session)\u001b[0m\n\u001b[1;32m   1818\u001b[0m     \u001b[38;5;28;01mreturn\u001b[39;00m session\n\u001b[1;32m   1820\u001b[0m \u001b[38;5;28;01mtry\u001b[39;00m:\n\u001b[1;32m   1821\u001b[0m     \u001b[38;5;66;03m# Don't make implicit sessions causally consistent. Applications\u001b[39;00m\n\u001b[1;32m   1822\u001b[0m     \u001b[38;5;66;03m# should always opt-in.\u001b[39;00m\n\u001b[0;32m-> 1823\u001b[0m     \u001b[38;5;28;01mreturn\u001b[39;00m \u001b[38;5;28;43mself\u001b[39;49m\u001b[38;5;241;43m.\u001b[39;49m\u001b[43m__start_session\u001b[49m\u001b[43m(\u001b[49m\u001b[38;5;28;43;01mTrue\u001b[39;49;00m\u001b[43m,\u001b[49m\u001b[43m \u001b[49m\u001b[43mcausal_consistency\u001b[49m\u001b[38;5;241;43m=\u001b[39;49m\u001b[38;5;28;43;01mFalse\u001b[39;49;00m\u001b[43m)\u001b[49m\n\u001b[1;32m   1824\u001b[0m \u001b[38;5;28;01mexcept\u001b[39;00m (ConfigurationError, InvalidOperation):\n\u001b[1;32m   1825\u001b[0m     \u001b[38;5;66;03m# Sessions not supported.\u001b[39;00m\n\u001b[1;32m   1826\u001b[0m     \u001b[38;5;28;01mreturn\u001b[39;00m \u001b[38;5;28;01mNone\u001b[39;00m\n",
      "File \u001b[0;32m~/A-ZUNG/.venv/lib/python3.10/site-packages/pymongo/mongo_client.py:1766\u001b[0m, in \u001b[0;36mMongoClient.__start_session\u001b[0;34m(self, implicit, **kwargs)\u001b[0m\n\u001b[1;32m   1763\u001b[0m \u001b[38;5;28;01mdef\u001b[39;00m \u001b[38;5;21m__start_session\u001b[39m(\u001b[38;5;28mself\u001b[39m, implicit: \u001b[38;5;28mbool\u001b[39m, \u001b[38;5;241m*\u001b[39m\u001b[38;5;241m*\u001b[39mkwargs: Any) \u001b[38;5;241m-\u001b[39m\u001b[38;5;241m>\u001b[39m ClientSession:\n\u001b[1;32m   1764\u001b[0m     \u001b[38;5;66;03m# Raises ConfigurationError if sessions are not supported.\u001b[39;00m\n\u001b[1;32m   1765\u001b[0m     \u001b[38;5;28;01mif\u001b[39;00m implicit:\n\u001b[0;32m-> 1766\u001b[0m         \u001b[38;5;28;43mself\u001b[39;49m\u001b[38;5;241;43m.\u001b[39;49m\u001b[43m_topology\u001b[49m\u001b[38;5;241;43m.\u001b[39;49m\u001b[43m_check_implicit_session_support\u001b[49m\u001b[43m(\u001b[49m\u001b[43m)\u001b[49m\n\u001b[1;32m   1767\u001b[0m         server_session: Union[_EmptyServerSession, _ServerSession] \u001b[38;5;241m=\u001b[39m _EmptyServerSession()\n\u001b[1;32m   1768\u001b[0m     \u001b[38;5;28;01melse\u001b[39;00m:\n",
      "File \u001b[0;32m~/A-ZUNG/.venv/lib/python3.10/site-packages/pymongo/topology.py:573\u001b[0m, in \u001b[0;36mTopology._check_implicit_session_support\u001b[0;34m(self)\u001b[0m\n\u001b[1;32m    571\u001b[0m \u001b[38;5;28;01mdef\u001b[39;00m \u001b[38;5;21m_check_implicit_session_support\u001b[39m(\u001b[38;5;28mself\u001b[39m) \u001b[38;5;241m-\u001b[39m\u001b[38;5;241m>\u001b[39m \u001b[38;5;28;01mNone\u001b[39;00m:\n\u001b[1;32m    572\u001b[0m     \u001b[38;5;28;01mwith\u001b[39;00m \u001b[38;5;28mself\u001b[39m\u001b[38;5;241m.\u001b[39m_lock:\n\u001b[0;32m--> 573\u001b[0m         \u001b[38;5;28;43mself\u001b[39;49m\u001b[38;5;241;43m.\u001b[39;49m\u001b[43m_check_session_support\u001b[49m\u001b[43m(\u001b[49m\u001b[43m)\u001b[49m\n",
      "File \u001b[0;32m~/A-ZUNG/.venv/lib/python3.10/site-packages/pymongo/topology.py:589\u001b[0m, in \u001b[0;36mTopology._check_session_support\u001b[0;34m(self)\u001b[0m\n\u001b[1;32m    585\u001b[0m         \u001b[38;5;28mself\u001b[39m\u001b[38;5;241m.\u001b[39m_select_servers_loop(\n\u001b[1;32m    586\u001b[0m             any_server_selector, \u001b[38;5;28mself\u001b[39m\u001b[38;5;241m.\u001b[39mget_server_selection_timeout(), \u001b[38;5;28;01mNone\u001b[39;00m\n\u001b[1;32m    587\u001b[0m         )\n\u001b[1;32m    588\u001b[0m \u001b[38;5;28;01melif\u001b[39;00m \u001b[38;5;129;01mnot\u001b[39;00m \u001b[38;5;28mself\u001b[39m\u001b[38;5;241m.\u001b[39m_description\u001b[38;5;241m.\u001b[39mreadable_servers:\n\u001b[0;32m--> 589\u001b[0m     \u001b[38;5;28;43mself\u001b[39;49m\u001b[38;5;241;43m.\u001b[39;49m\u001b[43m_select_servers_loop\u001b[49m\u001b[43m(\u001b[49m\n\u001b[1;32m    590\u001b[0m \u001b[43m        \u001b[49m\u001b[43mreadable_server_selector\u001b[49m\u001b[43m,\u001b[49m\u001b[43m \u001b[49m\u001b[38;5;28;43mself\u001b[39;49m\u001b[38;5;241;43m.\u001b[39;49m\u001b[43mget_server_selection_timeout\u001b[49m\u001b[43m(\u001b[49m\u001b[43m)\u001b[49m\u001b[43m,\u001b[49m\u001b[43m \u001b[49m\u001b[38;5;28;43;01mNone\u001b[39;49;00m\n\u001b[1;32m    591\u001b[0m \u001b[43m    \u001b[49m\u001b[43m)\u001b[49m\n\u001b[1;32m    593\u001b[0m session_timeout \u001b[38;5;241m=\u001b[39m \u001b[38;5;28mself\u001b[39m\u001b[38;5;241m.\u001b[39m_description\u001b[38;5;241m.\u001b[39mlogical_session_timeout_minutes\n\u001b[1;32m    594\u001b[0m \u001b[38;5;28;01mif\u001b[39;00m session_timeout \u001b[38;5;129;01mis\u001b[39;00m \u001b[38;5;28;01mNone\u001b[39;00m:\n",
      "File \u001b[0;32m~/A-ZUNG/.venv/lib/python3.10/site-packages/pymongo/topology.py:270\u001b[0m, in \u001b[0;36mTopology._select_servers_loop\u001b[0;34m(self, selector, timeout, address)\u001b[0m\n\u001b[1;32m    264\u001b[0m \u001b[38;5;28mself\u001b[39m\u001b[38;5;241m.\u001b[39m_request_check_all()\n\u001b[1;32m    266\u001b[0m \u001b[38;5;66;03m# Release the lock and wait for the topology description to\u001b[39;00m\n\u001b[1;32m    267\u001b[0m \u001b[38;5;66;03m# change, or for a timeout. We won't miss any changes that\u001b[39;00m\n\u001b[1;32m    268\u001b[0m \u001b[38;5;66;03m# came after our most recent apply_selector call, since we've\u001b[39;00m\n\u001b[1;32m    269\u001b[0m \u001b[38;5;66;03m# held the lock until now.\u001b[39;00m\n\u001b[0;32m--> 270\u001b[0m \u001b[38;5;28;43mself\u001b[39;49m\u001b[38;5;241;43m.\u001b[39;49m\u001b[43m_condition\u001b[49m\u001b[38;5;241;43m.\u001b[39;49m\u001b[43mwait\u001b[49m\u001b[43m(\u001b[49m\u001b[43mcommon\u001b[49m\u001b[38;5;241;43m.\u001b[39;49m\u001b[43mMIN_HEARTBEAT_INTERVAL\u001b[49m\u001b[43m)\u001b[49m\n\u001b[1;32m    271\u001b[0m \u001b[38;5;28mself\u001b[39m\u001b[38;5;241m.\u001b[39m_description\u001b[38;5;241m.\u001b[39mcheck_compatible()\n\u001b[1;32m    272\u001b[0m now \u001b[38;5;241m=\u001b[39m time\u001b[38;5;241m.\u001b[39mmonotonic()\n",
      "File \u001b[0;32m/usr/lib/python3.10/threading.py:324\u001b[0m, in \u001b[0;36mCondition.wait\u001b[0;34m(self, timeout)\u001b[0m\n\u001b[1;32m    322\u001b[0m \u001b[38;5;28;01melse\u001b[39;00m:\n\u001b[1;32m    323\u001b[0m     \u001b[38;5;28;01mif\u001b[39;00m timeout \u001b[38;5;241m>\u001b[39m \u001b[38;5;241m0\u001b[39m:\n\u001b[0;32m--> 324\u001b[0m         gotit \u001b[38;5;241m=\u001b[39m \u001b[43mwaiter\u001b[49m\u001b[38;5;241;43m.\u001b[39;49m\u001b[43macquire\u001b[49m\u001b[43m(\u001b[49m\u001b[38;5;28;43;01mTrue\u001b[39;49;00m\u001b[43m,\u001b[49m\u001b[43m \u001b[49m\u001b[43mtimeout\u001b[49m\u001b[43m)\u001b[49m\n\u001b[1;32m    325\u001b[0m     \u001b[38;5;28;01melse\u001b[39;00m:\n\u001b[1;32m    326\u001b[0m         gotit \u001b[38;5;241m=\u001b[39m waiter\u001b[38;5;241m.\u001b[39macquire(\u001b[38;5;28;01mFalse\u001b[39;00m)\n",
      "\u001b[0;31mKeyboardInterrupt\u001b[0m: "
     ]
    }
   ],
   "source": [
    "import pymongo\n",
    "\n",
    "\n",
    "client = pymongo.MongoClient(\"mongodb://10.0.67.162:27017/\")\n",
    "\n",
    "mydb = client['task']\n",
    "event_collect = mydb['News']\n",
    "status_doc = {'_id':'0',\n",
    "              'curr_id':'0',\n",
    "              'curr_id_rss':'0',\n",
    "              'curr_timestamp':'0'}\n",
    "event_collect.insert_one(status_doc)\n",
    "\n",
    "\"\"\"for x in event_collect.find():\n",
    "    print(x)\"\"\"\n"
   ]
  }
 ],
 "metadata": {
  "kernelspec": {
   "display_name": ".venv",
   "language": "python",
   "name": "python3"
  },
  "language_info": {
   "codemirror_mode": {
    "name": "ipython",
    "version": 3
   },
   "file_extension": ".py",
   "mimetype": "text/x-python",
   "name": "python",
   "nbconvert_exporter": "python",
   "pygments_lexer": "ipython3",
   "version": "3.10.12"
  }
 },
 "nbformat": 4,
 "nbformat_minor": 2
}
